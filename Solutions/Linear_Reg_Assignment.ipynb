{
 "cells": [
  {
   "cell_type": "markdown",
   "metadata": {},
   "source": [
    "# Machine Learning Question - 1\n",
    "Implement Linear Regression with Gradient Descent"
   ]
  },
  {
   "cell_type": "markdown",
   "metadata": {},
   "source": [
    "## Let's read the .names file to get info of the dataset"
   ]
  },
  {
   "cell_type": "code",
   "execution_count": 1,
   "metadata": {},
   "outputs": [
    {
     "name": "stdout",
     "output_type": "stream",
     "text": [
      "Citation Request:\n",
      "  This dataset is public available for research. The details are described in [Cortez et al., 2009]. \n",
      "  Please include this citation if you plan to use this database:\n",
      "\n",
      "  P. Cortez, A. Cerdeira, F. Almeida, T. Matos and J. Reis. \n",
      "  Modeling wine preferences by data mining from physicochemical properties.\n",
      "  In Decision Support Systems, Elsevier, 47(4):547-553. ISSN: 0167-9236.\n",
      "\n",
      "  Available at: [@Elsevier] http://dx.doi.org/10.1016/j.dss.2009.05.016\n",
      "                [Pre-press (pdf)] http://www3.dsi.uminho.pt/pcortez/winequality09.pdf\n",
      "                [bib] http://www3.dsi.uminho.pt/pcortez/dss09.bib\n",
      "\n",
      "1. Title: Wine Quality \n",
      "\n",
      "2. Sources\n",
      "   Created by: Paulo Cortez (Univ. Minho), Antonio Cerdeira, Fernando Almeida, Telmo Matos and Jose Reis (CVRVV) @ 2009\n",
      "   \n",
      "3. Past Usage:\n",
      "\n",
      "  P. Cortez, A. Cerdeira, F. Almeida, T. Matos and J. Reis. \n",
      "  Modeling wine preferences by data mining from physicochemical properties.\n",
      "  In Decision Support Systems, Elsevier, 47(4):547-553. ISSN: 0167-9236.\n",
      "\n",
      "  In the above reference, two datasets were created, using red and white wine samples.\n",
      "  The inputs include objective tests (e.g. PH values) and the output is based on sensory data\n",
      "  (median of at least 3 evaluations made by wine experts). Each expert graded the wine quality \n",
      "  between 0 (very bad) and 10 (very excellent). Several data mining methods were applied to model\n",
      "  these datasets under a regression approach. The support vector machine model achieved the\n",
      "  best results. Several metrics were computed: MAD, confusion matrix for a fixed error tolerance (T),\n",
      "  etc. Also, we plot the relative importances of the input variables (as measured by a sensitivity\n",
      "  analysis procedure).\n",
      " \n",
      "4. Relevant Information:\n",
      "\n",
      "   The two datasets are related to red and white variants of the Portuguese \"Vinho Verde\" wine.\n",
      "   For more details, consult: http://www.vinhoverde.pt/en/ or the reference [Cortez et al., 2009].\n",
      "   Due to privacy and logistic issues, only physicochemical (inputs) and sensory (the output) variables \n",
      "   are available (e.g. there is no data about grape types, wine brand, wine selling price, etc.).\n",
      "\n",
      "   These datasets can be viewed as classification or regression tasks.\n",
      "   The classes are ordered and not balanced (e.g. there are munch more normal wines than\n",
      "   excellent or poor ones). Outlier detection algorithms could be used to detect the few excellent\n",
      "   or poor wines. Also, we are not sure if all input variables are relevant. So\n",
      "   it could be interesting to test feature selection methods. \n",
      "\n",
      "5. Number of Instances: red wine - 1599; white wine - 4898. \n",
      "\n",
      "6. Number of Attributes: 11 + output attribute\n",
      "  \n",
      "   Note: several of the attributes may be correlated, thus it makes sense to apply some sort of\n",
      "   feature selection.\n",
      "\n",
      "7. Attribute information:\n",
      "\n",
      "   For more information, read [Cortez et al., 2009].\n",
      "\n",
      "   Input variables (based on physicochemical tests):\n",
      "   1 - fixed acidity\n",
      "   2 - volatile acidity\n",
      "   3 - citric acid\n",
      "   4 - residual sugar\n",
      "   5 - chlorides\n",
      "   6 - free sulfur dioxide\n",
      "   7 - total sulfur dioxide\n",
      "   8 - density\n",
      "   9 - pH\n",
      "   10 - sulphates\n",
      "   11 - alcohol\n",
      "   Output variable (based on sensory data): \n",
      "   12 - quality (score between 0 and 10)\n",
      "\n",
      "8. Missing Attribute Values: None\n",
      "\n"
     ]
    }
   ],
   "source": [
    "with open(\"winequality.names\") as fptr:\n",
    "    print(fptr.read())"
   ]
  },
  {
   "cell_type": "code",
   "execution_count": 2,
   "metadata": {},
   "outputs": [],
   "source": [
    "#Importing the required libraries\n",
    "import pandas as pd\n",
    "import numpy as np\n",
    "import matplotlib.pyplot as plt\n",
    "import seaborn as sns\n",
    "from sklearn.metrics import mean_squared_error\n",
    "from sklearn.metrics import r2_score\n",
    "from sklearn.metrics import mean_absolute_error\n",
    "%matplotlib inline\n",
    "import math"
   ]
  },
  {
   "cell_type": "code",
   "execution_count": 3,
   "metadata": {},
   "outputs": [],
   "source": [
    "red_wine_data = pd.read_csv(\"winequality-red.csv\",sep=\";\")   #as file is separated by semicolons using a separator attribute"
   ]
  },
  {
   "cell_type": "code",
   "execution_count": 4,
   "metadata": {},
   "outputs": [
    {
     "name": "stdout",
     "output_type": "stream",
     "text": [
      "<class 'pandas.core.frame.DataFrame'>\n",
      "RangeIndex: 1599 entries, 0 to 1598\n",
      "Data columns (total 12 columns):\n",
      " #   Column                Non-Null Count  Dtype  \n",
      "---  ------                --------------  -----  \n",
      " 0   fixed acidity         1599 non-null   float64\n",
      " 1   volatile acidity      1599 non-null   float64\n",
      " 2   citric acid           1599 non-null   float64\n",
      " 3   residual sugar        1599 non-null   float64\n",
      " 4   chlorides             1599 non-null   float64\n",
      " 5   free sulfur dioxide   1599 non-null   float64\n",
      " 6   total sulfur dioxide  1599 non-null   float64\n",
      " 7   density               1599 non-null   float64\n",
      " 8   pH                    1599 non-null   float64\n",
      " 9   sulphates             1599 non-null   float64\n",
      " 10  alcohol               1599 non-null   float64\n",
      " 11  quality               1599 non-null   int64  \n",
      "dtypes: float64(11), int64(1)\n",
      "memory usage: 150.0 KB\n"
     ]
    }
   ],
   "source": [
    "# Explore the columns and data types of them\n",
    "red_wine_data.info()"
   ]
  },
  {
   "cell_type": "code",
   "execution_count": 5,
   "metadata": {},
   "outputs": [
    {
     "data": {
      "text/html": [
       "<div>\n",
       "<style scoped>\n",
       "    .dataframe tbody tr th:only-of-type {\n",
       "        vertical-align: middle;\n",
       "    }\n",
       "\n",
       "    .dataframe tbody tr th {\n",
       "        vertical-align: top;\n",
       "    }\n",
       "\n",
       "    .dataframe thead th {\n",
       "        text-align: right;\n",
       "    }\n",
       "</style>\n",
       "<table border=\"1\" class=\"dataframe\">\n",
       "  <thead>\n",
       "    <tr style=\"text-align: right;\">\n",
       "      <th></th>\n",
       "      <th>fixed acidity</th>\n",
       "      <th>volatile acidity</th>\n",
       "      <th>citric acid</th>\n",
       "      <th>residual sugar</th>\n",
       "      <th>chlorides</th>\n",
       "      <th>free sulfur dioxide</th>\n",
       "      <th>total sulfur dioxide</th>\n",
       "      <th>density</th>\n",
       "      <th>pH</th>\n",
       "      <th>sulphates</th>\n",
       "      <th>alcohol</th>\n",
       "      <th>quality</th>\n",
       "    </tr>\n",
       "  </thead>\n",
       "  <tbody>\n",
       "    <tr>\n",
       "      <th>0</th>\n",
       "      <td>7.4</td>\n",
       "      <td>0.70</td>\n",
       "      <td>0.00</td>\n",
       "      <td>1.9</td>\n",
       "      <td>0.076</td>\n",
       "      <td>11.0</td>\n",
       "      <td>34.0</td>\n",
       "      <td>0.9978</td>\n",
       "      <td>3.51</td>\n",
       "      <td>0.56</td>\n",
       "      <td>9.4</td>\n",
       "      <td>5</td>\n",
       "    </tr>\n",
       "    <tr>\n",
       "      <th>1</th>\n",
       "      <td>7.8</td>\n",
       "      <td>0.88</td>\n",
       "      <td>0.00</td>\n",
       "      <td>2.6</td>\n",
       "      <td>0.098</td>\n",
       "      <td>25.0</td>\n",
       "      <td>67.0</td>\n",
       "      <td>0.9968</td>\n",
       "      <td>3.20</td>\n",
       "      <td>0.68</td>\n",
       "      <td>9.8</td>\n",
       "      <td>5</td>\n",
       "    </tr>\n",
       "    <tr>\n",
       "      <th>2</th>\n",
       "      <td>7.8</td>\n",
       "      <td>0.76</td>\n",
       "      <td>0.04</td>\n",
       "      <td>2.3</td>\n",
       "      <td>0.092</td>\n",
       "      <td>15.0</td>\n",
       "      <td>54.0</td>\n",
       "      <td>0.9970</td>\n",
       "      <td>3.26</td>\n",
       "      <td>0.65</td>\n",
       "      <td>9.8</td>\n",
       "      <td>5</td>\n",
       "    </tr>\n",
       "    <tr>\n",
       "      <th>3</th>\n",
       "      <td>11.2</td>\n",
       "      <td>0.28</td>\n",
       "      <td>0.56</td>\n",
       "      <td>1.9</td>\n",
       "      <td>0.075</td>\n",
       "      <td>17.0</td>\n",
       "      <td>60.0</td>\n",
       "      <td>0.9980</td>\n",
       "      <td>3.16</td>\n",
       "      <td>0.58</td>\n",
       "      <td>9.8</td>\n",
       "      <td>6</td>\n",
       "    </tr>\n",
       "    <tr>\n",
       "      <th>4</th>\n",
       "      <td>7.4</td>\n",
       "      <td>0.70</td>\n",
       "      <td>0.00</td>\n",
       "      <td>1.9</td>\n",
       "      <td>0.076</td>\n",
       "      <td>11.0</td>\n",
       "      <td>34.0</td>\n",
       "      <td>0.9978</td>\n",
       "      <td>3.51</td>\n",
       "      <td>0.56</td>\n",
       "      <td>9.4</td>\n",
       "      <td>5</td>\n",
       "    </tr>\n",
       "  </tbody>\n",
       "</table>\n",
       "</div>"
      ],
      "text/plain": [
       "   fixed acidity  volatile acidity  citric acid  residual sugar  chlorides  \\\n",
       "0            7.4              0.70         0.00             1.9      0.076   \n",
       "1            7.8              0.88         0.00             2.6      0.098   \n",
       "2            7.8              0.76         0.04             2.3      0.092   \n",
       "3           11.2              0.28         0.56             1.9      0.075   \n",
       "4            7.4              0.70         0.00             1.9      0.076   \n",
       "\n",
       "   free sulfur dioxide  total sulfur dioxide  density    pH  sulphates  \\\n",
       "0                 11.0                  34.0   0.9978  3.51       0.56   \n",
       "1                 25.0                  67.0   0.9968  3.20       0.68   \n",
       "2                 15.0                  54.0   0.9970  3.26       0.65   \n",
       "3                 17.0                  60.0   0.9980  3.16       0.58   \n",
       "4                 11.0                  34.0   0.9978  3.51       0.56   \n",
       "\n",
       "   alcohol  quality  \n",
       "0      9.4        5  \n",
       "1      9.8        5  \n",
       "2      9.8        5  \n",
       "3      9.8        6  \n",
       "4      9.4        5  "
      ]
     },
     "execution_count": 5,
     "metadata": {},
     "output_type": "execute_result"
    }
   ],
   "source": [
    "# See first few top rows of the dataset\n",
    "red_wine_data.head()"
   ]
  },
  {
   "cell_type": "code",
   "execution_count": 6,
   "metadata": {},
   "outputs": [
    {
     "data": {
      "text/plain": [
       "Index(['fixed acidity', 'volatile acidity', 'citric acid', 'residual sugar',\n",
       "       'chlorides', 'free sulfur dioxide', 'total sulfur dioxide', 'density',\n",
       "       'pH', 'sulphates', 'alcohol', 'quality'],\n",
       "      dtype='object')"
      ]
     },
     "execution_count": 6,
     "metadata": {},
     "output_type": "execute_result"
    }
   ],
   "source": [
    "#Columns:\n",
    "red_wine_data.columns"
   ]
  },
  {
   "cell_type": "code",
   "execution_count": 7,
   "metadata": {},
   "outputs": [
    {
     "data": {
      "text/plain": [
       "8"
      ]
     },
     "execution_count": 7,
     "metadata": {},
     "output_type": "execute_result"
    }
   ],
   "source": [
    "red_wine_data.quality.max()"
   ]
  },
  {
   "cell_type": "code",
   "execution_count": 8,
   "metadata": {},
   "outputs": [
    {
     "data": {
      "text/plain": [
       "3"
      ]
     },
     "execution_count": 8,
     "metadata": {},
     "output_type": "execute_result"
    }
   ],
   "source": [
    "red_wine_data.quality.min()"
   ]
  },
  {
   "cell_type": "markdown",
   "metadata": {},
   "source": [
    "Minimum rating for quality is 3 and Maximum is 8"
   ]
  },
  {
   "cell_type": "code",
   "execution_count": 9,
   "metadata": {},
   "outputs": [
    {
     "data": {
      "text/html": [
       "<div>\n",
       "<style scoped>\n",
       "    .dataframe tbody tr th:only-of-type {\n",
       "        vertical-align: middle;\n",
       "    }\n",
       "\n",
       "    .dataframe tbody tr th {\n",
       "        vertical-align: top;\n",
       "    }\n",
       "\n",
       "    .dataframe thead th {\n",
       "        text-align: right;\n",
       "    }\n",
       "</style>\n",
       "<table border=\"1\" class=\"dataframe\">\n",
       "  <thead>\n",
       "    <tr style=\"text-align: right;\">\n",
       "      <th></th>\n",
       "      <th>fixed acidity</th>\n",
       "      <th>volatile acidity</th>\n",
       "      <th>citric acid</th>\n",
       "      <th>residual sugar</th>\n",
       "      <th>chlorides</th>\n",
       "      <th>free sulfur dioxide</th>\n",
       "      <th>total sulfur dioxide</th>\n",
       "      <th>density</th>\n",
       "      <th>pH</th>\n",
       "      <th>sulphates</th>\n",
       "      <th>alcohol</th>\n",
       "      <th>quality</th>\n",
       "    </tr>\n",
       "  </thead>\n",
       "  <tbody>\n",
       "    <tr>\n",
       "      <th>count</th>\n",
       "      <td>1599.000000</td>\n",
       "      <td>1599.000000</td>\n",
       "      <td>1599.000000</td>\n",
       "      <td>1599.000000</td>\n",
       "      <td>1599.000000</td>\n",
       "      <td>1599.000000</td>\n",
       "      <td>1599.000000</td>\n",
       "      <td>1599.000000</td>\n",
       "      <td>1599.000000</td>\n",
       "      <td>1599.000000</td>\n",
       "      <td>1599.000000</td>\n",
       "      <td>1599.000000</td>\n",
       "    </tr>\n",
       "    <tr>\n",
       "      <th>mean</th>\n",
       "      <td>8.319637</td>\n",
       "      <td>0.527821</td>\n",
       "      <td>0.270976</td>\n",
       "      <td>2.538806</td>\n",
       "      <td>0.087467</td>\n",
       "      <td>15.874922</td>\n",
       "      <td>46.467792</td>\n",
       "      <td>0.996747</td>\n",
       "      <td>3.311113</td>\n",
       "      <td>0.658149</td>\n",
       "      <td>10.422983</td>\n",
       "      <td>5.636023</td>\n",
       "    </tr>\n",
       "    <tr>\n",
       "      <th>std</th>\n",
       "      <td>1.741096</td>\n",
       "      <td>0.179060</td>\n",
       "      <td>0.194801</td>\n",
       "      <td>1.409928</td>\n",
       "      <td>0.047065</td>\n",
       "      <td>10.460157</td>\n",
       "      <td>32.895324</td>\n",
       "      <td>0.001887</td>\n",
       "      <td>0.154386</td>\n",
       "      <td>0.169507</td>\n",
       "      <td>1.065668</td>\n",
       "      <td>0.807569</td>\n",
       "    </tr>\n",
       "    <tr>\n",
       "      <th>min</th>\n",
       "      <td>4.600000</td>\n",
       "      <td>0.120000</td>\n",
       "      <td>0.000000</td>\n",
       "      <td>0.900000</td>\n",
       "      <td>0.012000</td>\n",
       "      <td>1.000000</td>\n",
       "      <td>6.000000</td>\n",
       "      <td>0.990070</td>\n",
       "      <td>2.740000</td>\n",
       "      <td>0.330000</td>\n",
       "      <td>8.400000</td>\n",
       "      <td>3.000000</td>\n",
       "    </tr>\n",
       "    <tr>\n",
       "      <th>25%</th>\n",
       "      <td>7.100000</td>\n",
       "      <td>0.390000</td>\n",
       "      <td>0.090000</td>\n",
       "      <td>1.900000</td>\n",
       "      <td>0.070000</td>\n",
       "      <td>7.000000</td>\n",
       "      <td>22.000000</td>\n",
       "      <td>0.995600</td>\n",
       "      <td>3.210000</td>\n",
       "      <td>0.550000</td>\n",
       "      <td>9.500000</td>\n",
       "      <td>5.000000</td>\n",
       "    </tr>\n",
       "    <tr>\n",
       "      <th>50%</th>\n",
       "      <td>7.900000</td>\n",
       "      <td>0.520000</td>\n",
       "      <td>0.260000</td>\n",
       "      <td>2.200000</td>\n",
       "      <td>0.079000</td>\n",
       "      <td>14.000000</td>\n",
       "      <td>38.000000</td>\n",
       "      <td>0.996750</td>\n",
       "      <td>3.310000</td>\n",
       "      <td>0.620000</td>\n",
       "      <td>10.200000</td>\n",
       "      <td>6.000000</td>\n",
       "    </tr>\n",
       "    <tr>\n",
       "      <th>75%</th>\n",
       "      <td>9.200000</td>\n",
       "      <td>0.640000</td>\n",
       "      <td>0.420000</td>\n",
       "      <td>2.600000</td>\n",
       "      <td>0.090000</td>\n",
       "      <td>21.000000</td>\n",
       "      <td>62.000000</td>\n",
       "      <td>0.997835</td>\n",
       "      <td>3.400000</td>\n",
       "      <td>0.730000</td>\n",
       "      <td>11.100000</td>\n",
       "      <td>6.000000</td>\n",
       "    </tr>\n",
       "    <tr>\n",
       "      <th>max</th>\n",
       "      <td>15.900000</td>\n",
       "      <td>1.580000</td>\n",
       "      <td>1.000000</td>\n",
       "      <td>15.500000</td>\n",
       "      <td>0.611000</td>\n",
       "      <td>72.000000</td>\n",
       "      <td>289.000000</td>\n",
       "      <td>1.003690</td>\n",
       "      <td>4.010000</td>\n",
       "      <td>2.000000</td>\n",
       "      <td>14.900000</td>\n",
       "      <td>8.000000</td>\n",
       "    </tr>\n",
       "  </tbody>\n",
       "</table>\n",
       "</div>"
      ],
      "text/plain": [
       "       fixed acidity  volatile acidity  citric acid  residual sugar  \\\n",
       "count    1599.000000       1599.000000  1599.000000     1599.000000   \n",
       "mean        8.319637          0.527821     0.270976        2.538806   \n",
       "std         1.741096          0.179060     0.194801        1.409928   \n",
       "min         4.600000          0.120000     0.000000        0.900000   \n",
       "25%         7.100000          0.390000     0.090000        1.900000   \n",
       "50%         7.900000          0.520000     0.260000        2.200000   \n",
       "75%         9.200000          0.640000     0.420000        2.600000   \n",
       "max        15.900000          1.580000     1.000000       15.500000   \n",
       "\n",
       "         chlorides  free sulfur dioxide  total sulfur dioxide      density  \\\n",
       "count  1599.000000          1599.000000           1599.000000  1599.000000   \n",
       "mean      0.087467            15.874922             46.467792     0.996747   \n",
       "std       0.047065            10.460157             32.895324     0.001887   \n",
       "min       0.012000             1.000000              6.000000     0.990070   \n",
       "25%       0.070000             7.000000             22.000000     0.995600   \n",
       "50%       0.079000            14.000000             38.000000     0.996750   \n",
       "75%       0.090000            21.000000             62.000000     0.997835   \n",
       "max       0.611000            72.000000            289.000000     1.003690   \n",
       "\n",
       "                pH    sulphates      alcohol      quality  \n",
       "count  1599.000000  1599.000000  1599.000000  1599.000000  \n",
       "mean      3.311113     0.658149    10.422983     5.636023  \n",
       "std       0.154386     0.169507     1.065668     0.807569  \n",
       "min       2.740000     0.330000     8.400000     3.000000  \n",
       "25%       3.210000     0.550000     9.500000     5.000000  \n",
       "50%       3.310000     0.620000    10.200000     6.000000  \n",
       "75%       3.400000     0.730000    11.100000     6.000000  \n",
       "max       4.010000     2.000000    14.900000     8.000000  "
      ]
     },
     "execution_count": 9,
     "metadata": {},
     "output_type": "execute_result"
    }
   ],
   "source": [
    "# Statistical Summary of the dataset\n",
    "red_wine_data.describe()"
   ]
  },
  {
   "cell_type": "code",
   "execution_count": 10,
   "metadata": {},
   "outputs": [
    {
     "data": {
      "text/plain": [
       "(1599, 12)"
      ]
     },
     "execution_count": 10,
     "metadata": {},
     "output_type": "execute_result"
    }
   ],
   "source": [
    "#Let's see the shape ie. number rows and columns of the dataframe\n",
    "red_wine_data.shape"
   ]
  },
  {
   "cell_type": "code",
   "execution_count": 11,
   "metadata": {},
   "outputs": [
    {
     "data": {
      "text/plain": [
       "fixed acidity           False\n",
       "volatile acidity        False\n",
       "citric acid             False\n",
       "residual sugar          False\n",
       "chlorides               False\n",
       "free sulfur dioxide     False\n",
       "total sulfur dioxide    False\n",
       "density                 False\n",
       "pH                      False\n",
       "sulphates               False\n",
       "alcohol                 False\n",
       "quality                 False\n",
       "dtype: bool"
      ]
     },
     "execution_count": 11,
     "metadata": {},
     "output_type": "execute_result"
    }
   ],
   "source": [
    "# Check if there are any null values\n",
    "red_wine_data.isnull().any()"
   ]
  },
  {
   "cell_type": "code",
   "execution_count": 12,
   "metadata": {},
   "outputs": [
    {
     "data": {
      "text/plain": [
       "array([5, 6, 7, 4, 8, 3], dtype=int64)"
      ]
     },
     "execution_count": 12,
     "metadata": {},
     "output_type": "execute_result"
    }
   ],
   "source": [
    "# Just seeing the unique quality values of the dataframe\n",
    "red_wine_data['quality'].unique()"
   ]
  },
  {
   "cell_type": "code",
   "execution_count": 13,
   "metadata": {},
   "outputs": [],
   "source": [
    "# let's drop the duplicate rows as redundant info will not help us in unique training\n",
    "red_wine_data.drop_duplicates(subset=None,inplace=True)"
   ]
  },
  {
   "cell_type": "code",
   "execution_count": 14,
   "metadata": {},
   "outputs": [
    {
     "data": {
      "text/plain": [
       "(1359, 12)"
      ]
     },
     "execution_count": 14,
     "metadata": {},
     "output_type": "execute_result"
    }
   ],
   "source": [
    "red_wine_data.shape"
   ]
  },
  {
   "cell_type": "markdown",
   "metadata": {},
   "source": [
    "We see a few rows have dropped which were duplicates"
   ]
  },
  {
   "cell_type": "markdown",
   "metadata": {},
   "source": [
    "# Data Viz"
   ]
  },
  {
   "cell_type": "code",
   "execution_count": 15,
   "metadata": {},
   "outputs": [
    {
     "data": {
      "text/plain": [
       "<AxesSubplot:xlabel='quality', ylabel='count'>"
      ]
     },
     "execution_count": 15,
     "metadata": {},
     "output_type": "execute_result"
    },
    {
     "data": {
      "image/png": "[encoded data removed]",
      "text/plain": [
       "<Figure size 432x288 with 1 Axes>"
      ]
     },
     "metadata": {
      "needs_background": "light"
     },
     "output_type": "display_data"
    }
   ],
   "source": [
    "# To see the counts of qualities\n",
    "sns.countplot(x='quality',data= red_wine_data)"
   ]
  },
  {
   "cell_type": "code",
   "execution_count": 16,
   "metadata": {},
   "outputs": [
    {
     "data": {
      "text/html": [
       "<div>\n",
       "<style scoped>\n",
       "    .dataframe tbody tr th:only-of-type {\n",
       "        vertical-align: middle;\n",
       "    }\n",
       "\n",
       "    .dataframe tbody tr th {\n",
       "        vertical-align: top;\n",
       "    }\n",
       "\n",
       "    .dataframe thead th {\n",
       "        text-align: right;\n",
       "    }\n",
       "</style>\n",
       "<table border=\"1\" class=\"dataframe\">\n",
       "  <thead>\n",
       "    <tr style=\"text-align: right;\">\n",
       "      <th></th>\n",
       "      <th>fixed acidity</th>\n",
       "      <th>volatile acidity</th>\n",
       "      <th>citric acid</th>\n",
       "      <th>residual sugar</th>\n",
       "      <th>chlorides</th>\n",
       "      <th>free sulfur dioxide</th>\n",
       "      <th>total sulfur dioxide</th>\n",
       "      <th>density</th>\n",
       "      <th>pH</th>\n",
       "      <th>sulphates</th>\n",
       "      <th>alcohol</th>\n",
       "      <th>quality</th>\n",
       "    </tr>\n",
       "  </thead>\n",
       "  <tbody>\n",
       "    <tr>\n",
       "      <th>fixed acidity</th>\n",
       "      <td>1.000000</td>\n",
       "      <td>-0.255124</td>\n",
       "      <td>0.667437</td>\n",
       "      <td>0.111025</td>\n",
       "      <td>0.085886</td>\n",
       "      <td>-0.140580</td>\n",
       "      <td>-0.103777</td>\n",
       "      <td>0.670195</td>\n",
       "      <td>-0.686685</td>\n",
       "      <td>0.190269</td>\n",
       "      <td>-0.061596</td>\n",
       "      <td>0.119024</td>\n",
       "    </tr>\n",
       "    <tr>\n",
       "      <th>volatile acidity</th>\n",
       "      <td>-0.255124</td>\n",
       "      <td>1.000000</td>\n",
       "      <td>-0.551248</td>\n",
       "      <td>-0.002449</td>\n",
       "      <td>0.055154</td>\n",
       "      <td>-0.020945</td>\n",
       "      <td>0.071701</td>\n",
       "      <td>0.023943</td>\n",
       "      <td>0.247111</td>\n",
       "      <td>-0.256948</td>\n",
       "      <td>-0.197812</td>\n",
       "      <td>-0.395214</td>\n",
       "    </tr>\n",
       "    <tr>\n",
       "      <th>citric acid</th>\n",
       "      <td>0.667437</td>\n",
       "      <td>-0.551248</td>\n",
       "      <td>1.000000</td>\n",
       "      <td>0.143892</td>\n",
       "      <td>0.210195</td>\n",
       "      <td>-0.048004</td>\n",
       "      <td>0.047358</td>\n",
       "      <td>0.357962</td>\n",
       "      <td>-0.550310</td>\n",
       "      <td>0.326062</td>\n",
       "      <td>0.105108</td>\n",
       "      <td>0.228057</td>\n",
       "    </tr>\n",
       "    <tr>\n",
       "      <th>residual sugar</th>\n",
       "      <td>0.111025</td>\n",
       "      <td>-0.002449</td>\n",
       "      <td>0.143892</td>\n",
       "      <td>1.000000</td>\n",
       "      <td>0.026656</td>\n",
       "      <td>0.160527</td>\n",
       "      <td>0.201038</td>\n",
       "      <td>0.324522</td>\n",
       "      <td>-0.083143</td>\n",
       "      <td>-0.011837</td>\n",
       "      <td>0.063281</td>\n",
       "      <td>0.013640</td>\n",
       "    </tr>\n",
       "    <tr>\n",
       "      <th>chlorides</th>\n",
       "      <td>0.085886</td>\n",
       "      <td>0.055154</td>\n",
       "      <td>0.210195</td>\n",
       "      <td>0.026656</td>\n",
       "      <td>1.000000</td>\n",
       "      <td>0.000749</td>\n",
       "      <td>0.045773</td>\n",
       "      <td>0.193592</td>\n",
       "      <td>-0.270893</td>\n",
       "      <td>0.394557</td>\n",
       "      <td>-0.223824</td>\n",
       "      <td>-0.130988</td>\n",
       "    </tr>\n",
       "    <tr>\n",
       "      <th>free sulfur dioxide</th>\n",
       "      <td>-0.140580</td>\n",
       "      <td>-0.020945</td>\n",
       "      <td>-0.048004</td>\n",
       "      <td>0.160527</td>\n",
       "      <td>0.000749</td>\n",
       "      <td>1.000000</td>\n",
       "      <td>0.667246</td>\n",
       "      <td>-0.018071</td>\n",
       "      <td>0.056631</td>\n",
       "      <td>0.054126</td>\n",
       "      <td>-0.080125</td>\n",
       "      <td>-0.050463</td>\n",
       "    </tr>\n",
       "    <tr>\n",
       "      <th>total sulfur dioxide</th>\n",
       "      <td>-0.103777</td>\n",
       "      <td>0.071701</td>\n",
       "      <td>0.047358</td>\n",
       "      <td>0.201038</td>\n",
       "      <td>0.045773</td>\n",
       "      <td>0.667246</td>\n",
       "      <td>1.000000</td>\n",
       "      <td>0.078141</td>\n",
       "      <td>-0.079257</td>\n",
       "      <td>0.035291</td>\n",
       "      <td>-0.217829</td>\n",
       "      <td>-0.177855</td>\n",
       "    </tr>\n",
       "    <tr>\n",
       "      <th>density</th>\n",
       "      <td>0.670195</td>\n",
       "      <td>0.023943</td>\n",
       "      <td>0.357962</td>\n",
       "      <td>0.324522</td>\n",
       "      <td>0.193592</td>\n",
       "      <td>-0.018071</td>\n",
       "      <td>0.078141</td>\n",
       "      <td>1.000000</td>\n",
       "      <td>-0.355617</td>\n",
       "      <td>0.146036</td>\n",
       "      <td>-0.504995</td>\n",
       "      <td>-0.184252</td>\n",
       "    </tr>\n",
       "    <tr>\n",
       "      <th>pH</th>\n",
       "      <td>-0.686685</td>\n",
       "      <td>0.247111</td>\n",
       "      <td>-0.550310</td>\n",
       "      <td>-0.083143</td>\n",
       "      <td>-0.270893</td>\n",
       "      <td>0.056631</td>\n",
       "      <td>-0.079257</td>\n",
       "      <td>-0.355617</td>\n",
       "      <td>1.000000</td>\n",
       "      <td>-0.214134</td>\n",
       "      <td>0.213418</td>\n",
       "      <td>-0.055245</td>\n",
       "    </tr>\n",
       "    <tr>\n",
       "      <th>sulphates</th>\n",
       "      <td>0.190269</td>\n",
       "      <td>-0.256948</td>\n",
       "      <td>0.326062</td>\n",
       "      <td>-0.011837</td>\n",
       "      <td>0.394557</td>\n",
       "      <td>0.054126</td>\n",
       "      <td>0.035291</td>\n",
       "      <td>0.146036</td>\n",
       "      <td>-0.214134</td>\n",
       "      <td>1.000000</td>\n",
       "      <td>0.091621</td>\n",
       "      <td>0.248835</td>\n",
       "    </tr>\n",
       "    <tr>\n",
       "      <th>alcohol</th>\n",
       "      <td>-0.061596</td>\n",
       "      <td>-0.197812</td>\n",
       "      <td>0.105108</td>\n",
       "      <td>0.063281</td>\n",
       "      <td>-0.223824</td>\n",
       "      <td>-0.080125</td>\n",
       "      <td>-0.217829</td>\n",
       "      <td>-0.504995</td>\n",
       "      <td>0.213418</td>\n",
       "      <td>0.091621</td>\n",
       "      <td>1.000000</td>\n",
       "      <td>0.480343</td>\n",
       "    </tr>\n",
       "    <tr>\n",
       "      <th>quality</th>\n",
       "      <td>0.119024</td>\n",
       "      <td>-0.395214</td>\n",
       "      <td>0.228057</td>\n",
       "      <td>0.013640</td>\n",
       "      <td>-0.130988</td>\n",
       "      <td>-0.050463</td>\n",
       "      <td>-0.177855</td>\n",
       "      <td>-0.184252</td>\n",
       "      <td>-0.055245</td>\n",
       "      <td>0.248835</td>\n",
       "      <td>0.480343</td>\n",
       "      <td>1.000000</td>\n",
       "    </tr>\n",
       "  </tbody>\n",
       "</table>\n",
       "</div>"
      ],
      "text/plain": [
       "                      fixed acidity  volatile acidity  citric acid  \\\n",
       "fixed acidity              1.000000         -0.255124     0.667437   \n",
       "volatile acidity          -0.255124          1.000000    -0.551248   \n",
       "citric acid                0.667437         -0.551248     1.000000   \n",
       "residual sugar             0.111025         -0.002449     0.143892   \n",
       "chlorides                  0.085886          0.055154     0.210195   \n",
       "free sulfur dioxide       -0.140580         -0.020945    -0.048004   \n",
       "total sulfur dioxide      -0.103777          0.071701     0.047358   \n",
       "density                    0.670195          0.023943     0.357962   \n",
       "pH                        -0.686685          0.247111    -0.550310   \n",
       "sulphates                  0.190269         -0.256948     0.326062   \n",
       "alcohol                   -0.061596         -0.197812     0.105108   \n",
       "quality                    0.119024         -0.395214     0.228057   \n",
       "\n",
       "                      residual sugar  chlorides  free sulfur dioxide  \\\n",
       "fixed acidity               0.111025   0.085886            -0.140580   \n",
       "volatile acidity           -0.002449   0.055154            -0.020945   \n",
       "citric acid                 0.143892   0.210195            -0.048004   \n",
       "residual sugar              1.000000   0.026656             0.160527   \n",
       "chlorides                   0.026656   1.000000             0.000749   \n",
       "free sulfur dioxide         0.160527   0.000749             1.000000   \n",
       "total sulfur dioxide        0.201038   0.045773             0.667246   \n",
       "density                     0.324522   0.193592            -0.018071   \n",
       "pH                         -0.083143  -0.270893             0.056631   \n",
       "sulphates                  -0.011837   0.394557             0.054126   \n",
       "alcohol                     0.063281  -0.223824            -0.080125   \n",
       "quality                     0.013640  -0.130988            -0.050463   \n",
       "\n",
       "                      total sulfur dioxide   density        pH  sulphates  \\\n",
       "fixed acidity                    -0.103777  0.670195 -0.686685   0.190269   \n",
       "volatile acidity                  0.071701  0.023943  0.247111  -0.256948   \n",
       "citric acid                       0.047358  0.357962 -0.550310   0.326062   \n",
       "residual sugar                    0.201038  0.324522 -0.083143  -0.011837   \n",
       "chlorides                         0.045773  0.193592 -0.270893   0.394557   \n",
       "free sulfur dioxide               0.667246 -0.018071  0.056631   0.054126   \n",
       "total sulfur dioxide              1.000000  0.078141 -0.079257   0.035291   \n",
       "density                           0.078141  1.000000 -0.355617   0.146036   \n",
       "pH                               -0.079257 -0.355617  1.000000  -0.214134   \n",
       "sulphates                         0.035291  0.146036 -0.214134   1.000000   \n",
       "alcohol                          -0.217829 -0.504995  0.213418   0.091621   \n",
       "quality                          -0.177855 -0.184252 -0.055245   0.248835   \n",
       "\n",
       "                       alcohol   quality  \n",
       "fixed acidity        -0.061596  0.119024  \n",
       "volatile acidity     -0.197812 -0.395214  \n",
       "citric acid           0.105108  0.228057  \n",
       "residual sugar        0.063281  0.013640  \n",
       "chlorides            -0.223824 -0.130988  \n",
       "free sulfur dioxide  -0.080125 -0.050463  \n",
       "total sulfur dioxide -0.217829 -0.177855  \n",
       "density              -0.504995 -0.184252  \n",
       "pH                    0.213418 -0.055245  \n",
       "sulphates             0.091621  0.248835  \n",
       "alcohol               1.000000  0.480343  \n",
       "quality               0.480343  1.000000  "
      ]
     },
     "execution_count": 16,
     "metadata": {},
     "output_type": "execute_result"
    }
   ],
   "source": [
    "red_wine_data.corr()"
   ]
  },
  {
   "cell_type": "code",
   "execution_count": 17,
   "metadata": {},
   "outputs": [
    {
     "data": {
      "text/plain": [
       "<AxesSubplot:>"
      ]
     },
     "execution_count": 17,
     "metadata": {},
     "output_type": "execute_result"
    },
    {
     "data": {
      "image/png": "[encoded data removed]",
      "text/plain": [
       "<Figure size 1584x720 with 2 Axes>"
      ]
     },
     "metadata": {
      "needs_background": "light"
     },
     "output_type": "display_data"
    }
   ],
   "source": [
    "plt.figure(figsize=[22,10])\n",
    "sns.heatmap(red_wine_data.corr(),fmt='.2f',annot=True,cmap=\"Blues_r\")"
   ]
  },
  {
   "cell_type": "markdown",
   "metadata": {},
   "source": [
    "We observe that the features pH and fixed acidity are highly correlated among others so we plan to drop one.Before concluding on the same let's check the Variance Inflation Factor (VIF) to see if multi-collinearity exists in this multiple regression problem\n"
   ]
  },
  {
   "cell_type": "code",
   "execution_count": 18,
   "metadata": {},
   "outputs": [],
   "source": [
    "from statsmodels.stats.outliers_influence import variance_inflation_factor\n",
    "\n",
    "def calc_vif(X):\n",
    "\n",
    "    # Calculating VIF\n",
    "    vif = pd.DataFrame()\n",
    "    vif[\"variables\"] = X.columns\n",
    "    vif[\"VIF\"] = [variance_inflation_factor(X.values, i) for i in range(X.shape[1])]\n",
    "\n",
    "    return(vif)"
   ]
  },
  {
   "cell_type": "code",
   "execution_count": 19,
   "metadata": {},
   "outputs": [
    {
     "data": {
      "text/html": [
       "<div>\n",
       "<style scoped>\n",
       "    .dataframe tbody tr th:only-of-type {\n",
       "        vertical-align: middle;\n",
       "    }\n",
       "\n",
       "    .dataframe tbody tr th {\n",
       "        vertical-align: top;\n",
       "    }\n",
       "\n",
       "    .dataframe thead th {\n",
       "        text-align: right;\n",
       "    }\n",
       "</style>\n",
       "<table border=\"1\" class=\"dataframe\">\n",
       "  <thead>\n",
       "    <tr style=\"text-align: right;\">\n",
       "      <th></th>\n",
       "      <th>variables</th>\n",
       "      <th>VIF</th>\n",
       "    </tr>\n",
       "  </thead>\n",
       "  <tbody>\n",
       "    <tr>\n",
       "      <th>0</th>\n",
       "      <td>fixed acidity</td>\n",
       "      <td>75.023033</td>\n",
       "    </tr>\n",
       "    <tr>\n",
       "      <th>1</th>\n",
       "      <td>volatile acidity</td>\n",
       "      <td>17.387181</td>\n",
       "    </tr>\n",
       "    <tr>\n",
       "      <th>2</th>\n",
       "      <td>citric acid</td>\n",
       "      <td>9.195827</td>\n",
       "    </tr>\n",
       "    <tr>\n",
       "      <th>3</th>\n",
       "      <td>residual sugar</td>\n",
       "      <td>4.915782</td>\n",
       "    </tr>\n",
       "    <tr>\n",
       "      <th>4</th>\n",
       "      <td>chlorides</td>\n",
       "      <td>6.440176</td>\n",
       "    </tr>\n",
       "    <tr>\n",
       "      <th>5</th>\n",
       "      <td>free sulfur dioxide</td>\n",
       "      <td>6.442192</td>\n",
       "    </tr>\n",
       "    <tr>\n",
       "      <th>6</th>\n",
       "      <td>total sulfur dioxide</td>\n",
       "      <td>6.601411</td>\n",
       "    </tr>\n",
       "    <tr>\n",
       "      <th>7</th>\n",
       "      <td>density</td>\n",
       "      <td>1547.276977</td>\n",
       "    </tr>\n",
       "    <tr>\n",
       "      <th>8</th>\n",
       "      <td>pH</td>\n",
       "      <td>1102.707051</td>\n",
       "    </tr>\n",
       "    <tr>\n",
       "      <th>9</th>\n",
       "      <td>sulphates</td>\n",
       "      <td>22.810607</td>\n",
       "    </tr>\n",
       "    <tr>\n",
       "      <th>10</th>\n",
       "      <td>alcohol</td>\n",
       "      <td>146.378710</td>\n",
       "    </tr>\n",
       "    <tr>\n",
       "      <th>11</th>\n",
       "      <td>quality</td>\n",
       "      <td>74.885884</td>\n",
       "    </tr>\n",
       "  </tbody>\n",
       "</table>\n",
       "</div>"
      ],
      "text/plain": [
       "               variables          VIF\n",
       "0          fixed acidity    75.023033\n",
       "1       volatile acidity    17.387181\n",
       "2            citric acid     9.195827\n",
       "3         residual sugar     4.915782\n",
       "4              chlorides     6.440176\n",
       "5    free sulfur dioxide     6.442192\n",
       "6   total sulfur dioxide     6.601411\n",
       "7                density  1547.276977\n",
       "8                     pH  1102.707051\n",
       "9              sulphates    22.810607\n",
       "10               alcohol   146.378710\n",
       "11               quality    74.885884"
      ]
     },
     "execution_count": 19,
     "metadata": {},
     "output_type": "execute_result"
    }
   ],
   "source": [
    "calc_vif(red_wine_data)"
   ]
  },
  {
   "cell_type": "code",
   "execution_count": 20,
   "metadata": {},
   "outputs": [
    {
     "data": {
      "text/html": [
       "<div>\n",
       "<style scoped>\n",
       "    .dataframe tbody tr th:only-of-type {\n",
       "        vertical-align: middle;\n",
       "    }\n",
       "\n",
       "    .dataframe tbody tr th {\n",
       "        vertical-align: top;\n",
       "    }\n",
       "\n",
       "    .dataframe thead th {\n",
       "        text-align: right;\n",
       "    }\n",
       "</style>\n",
       "<table border=\"1\" class=\"dataframe\">\n",
       "  <thead>\n",
       "    <tr style=\"text-align: right;\">\n",
       "      <th></th>\n",
       "      <th>variables</th>\n",
       "      <th>VIF</th>\n",
       "    </tr>\n",
       "  </thead>\n",
       "  <tbody>\n",
       "    <tr>\n",
       "      <th>0</th>\n",
       "      <td>fixed acidity</td>\n",
       "      <td>75.023033</td>\n",
       "    </tr>\n",
       "    <tr>\n",
       "      <th>1</th>\n",
       "      <td>volatile acidity</td>\n",
       "      <td>17.387181</td>\n",
       "    </tr>\n",
       "    <tr>\n",
       "      <th>2</th>\n",
       "      <td>citric acid</td>\n",
       "      <td>9.195827</td>\n",
       "    </tr>\n",
       "    <tr>\n",
       "      <th>3</th>\n",
       "      <td>residual sugar</td>\n",
       "      <td>4.915782</td>\n",
       "    </tr>\n",
       "    <tr>\n",
       "      <th>4</th>\n",
       "      <td>chlorides</td>\n",
       "      <td>6.440176</td>\n",
       "    </tr>\n",
       "    <tr>\n",
       "      <th>5</th>\n",
       "      <td>free sulfur dioxide</td>\n",
       "      <td>6.442192</td>\n",
       "    </tr>\n",
       "    <tr>\n",
       "      <th>6</th>\n",
       "      <td>total sulfur dioxide</td>\n",
       "      <td>6.601411</td>\n",
       "    </tr>\n",
       "    <tr>\n",
       "      <th>7</th>\n",
       "      <td>density</td>\n",
       "      <td>1547.276977</td>\n",
       "    </tr>\n",
       "    <tr>\n",
       "      <th>8</th>\n",
       "      <td>pH</td>\n",
       "      <td>1102.707051</td>\n",
       "    </tr>\n",
       "    <tr>\n",
       "      <th>9</th>\n",
       "      <td>sulphates</td>\n",
       "      <td>22.810607</td>\n",
       "    </tr>\n",
       "    <tr>\n",
       "      <th>10</th>\n",
       "      <td>alcohol</td>\n",
       "      <td>146.378710</td>\n",
       "    </tr>\n",
       "    <tr>\n",
       "      <th>11</th>\n",
       "      <td>quality</td>\n",
       "      <td>74.885884</td>\n",
       "    </tr>\n",
       "  </tbody>\n",
       "</table>\n",
       "</div>"
      ],
      "text/plain": [
       "               variables          VIF\n",
       "0          fixed acidity    75.023033\n",
       "1       volatile acidity    17.387181\n",
       "2            citric acid     9.195827\n",
       "3         residual sugar     4.915782\n",
       "4              chlorides     6.440176\n",
       "5    free sulfur dioxide     6.442192\n",
       "6   total sulfur dioxide     6.601411\n",
       "7                density  1547.276977\n",
       "8                     pH  1102.707051\n",
       "9              sulphates    22.810607\n",
       "10               alcohol   146.378710\n",
       "11               quality    74.885884"
      ]
     },
     "execution_count": 20,
     "metadata": {},
     "output_type": "execute_result"
    }
   ],
   "source": [
    "calc_vif(red_wine_data)"
   ]
  },
  {
   "cell_type": "code",
   "execution_count": 21,
   "metadata": {},
   "outputs": [
    {
     "data": {
      "text/html": [
       "<div>\n",
       "<style scoped>\n",
       "    .dataframe tbody tr th:only-of-type {\n",
       "        vertical-align: middle;\n",
       "    }\n",
       "\n",
       "    .dataframe tbody tr th {\n",
       "        vertical-align: top;\n",
       "    }\n",
       "\n",
       "    .dataframe thead th {\n",
       "        text-align: right;\n",
       "    }\n",
       "</style>\n",
       "<table border=\"1\" class=\"dataframe\">\n",
       "  <thead>\n",
       "    <tr style=\"text-align: right;\">\n",
       "      <th></th>\n",
       "      <th>variables</th>\n",
       "      <th>VIF</th>\n",
       "    </tr>\n",
       "  </thead>\n",
       "  <tbody>\n",
       "    <tr>\n",
       "      <th>0</th>\n",
       "      <td>fixed acidity</td>\n",
       "      <td>37.030433</td>\n",
       "    </tr>\n",
       "    <tr>\n",
       "      <th>1</th>\n",
       "      <td>volatile acidity</td>\n",
       "      <td>15.091381</td>\n",
       "    </tr>\n",
       "    <tr>\n",
       "      <th>2</th>\n",
       "      <td>citric acid</td>\n",
       "      <td>8.619115</td>\n",
       "    </tr>\n",
       "    <tr>\n",
       "      <th>3</th>\n",
       "      <td>residual sugar</td>\n",
       "      <td>4.912710</td>\n",
       "    </tr>\n",
       "    <tr>\n",
       "      <th>4</th>\n",
       "      <td>chlorides</td>\n",
       "      <td>5.706700</td>\n",
       "    </tr>\n",
       "    <tr>\n",
       "      <th>5</th>\n",
       "      <td>free sulfur dioxide</td>\n",
       "      <td>6.342563</td>\n",
       "    </tr>\n",
       "    <tr>\n",
       "      <th>6</th>\n",
       "      <td>total sulfur dioxide</td>\n",
       "      <td>5.974092</td>\n",
       "    </tr>\n",
       "    <tr>\n",
       "      <th>7</th>\n",
       "      <td>sulphates</td>\n",
       "      <td>21.622546</td>\n",
       "    </tr>\n",
       "    <tr>\n",
       "      <th>8</th>\n",
       "      <td>alcohol</td>\n",
       "      <td>36.856500</td>\n",
       "    </tr>\n",
       "  </tbody>\n",
       "</table>\n",
       "</div>"
      ],
      "text/plain": [
       "              variables        VIF\n",
       "0         fixed acidity  37.030433\n",
       "1      volatile acidity  15.091381\n",
       "2           citric acid   8.619115\n",
       "3        residual sugar   4.912710\n",
       "4             chlorides   5.706700\n",
       "5   free sulfur dioxide   6.342563\n",
       "6  total sulfur dioxide   5.974092\n",
       "7             sulphates  21.622546\n",
       "8               alcohol  36.856500"
      ]
     },
     "execution_count": 21,
     "metadata": {},
     "output_type": "execute_result"
    }
   ],
   "source": [
    "calc_vif(red_wine_data.drop(['quality','pH','density'], axis=1))\n",
    "#calc_vif(red_wine_data1.drop(['quality','density','pH','fixed acidity','sulphates','alcohol'], axis=1))\n",
    "#red_wine_data1 = red_wine_data1.drop(['density','pH'], axis=1)"
   ]
  },
  {
   "cell_type": "code",
   "execution_count": 22,
   "metadata": {},
   "outputs": [],
   "source": [
    "# Using Z-Scaler z = (x - mean)/stddeviation, normalise data\n",
    "def normalize(data):\n",
    "    for i in range(0,12):\n",
    "        data.iloc[:,i] = ((data.iloc[:,i] - np.mean(data.iloc[:,i]))/np.std(data.iloc[:, i]))\n",
    "    return data"
   ]
  },
  {
   "cell_type": "code",
   "execution_count": 23,
   "metadata": {},
   "outputs": [],
   "source": [
    "# Using Z-Scaler z = (x - mean)/stddeviation, normalise data\n",
    "def normalize(data):\n",
    "    for i in range(0,9):\n",
    "        data[:,i] = ((data[:,i] - np.mean(data[:,i]))/np.std(data[:, i]))\n",
    "    return data"
   ]
  },
  {
   "cell_type": "code",
   "execution_count": 24,
   "metadata": {},
   "outputs": [],
   "source": [
    "#X = red_wine_data.drop(['quality','pH'], axis=1).values\n",
    "X = red_wine_data.drop(['quality','pH','density'], axis=1).values"
   ]
  },
  {
   "cell_type": "code",
   "execution_count": 25,
   "metadata": {},
   "outputs": [
    {
     "data": {
      "text/plain": [
       "(1359, 9)"
      ]
     },
     "execution_count": 25,
     "metadata": {},
     "output_type": "execute_result"
    }
   ],
   "source": [
    "X.shape"
   ]
  },
  {
   "cell_type": "code",
   "execution_count": 26,
   "metadata": {},
   "outputs": [
    {
     "data": {
      "text/plain": [
       "array([[-0.52443096,  0.93200015, -1.39325797, ..., -0.38404973,\n",
       "        -0.57856134, -0.95437429],\n",
       "       [-0.29406274,  1.91580043, -1.39325797, ...,  0.60407328,\n",
       "         0.12482157, -0.5845748 ],\n",
       "       [-0.29406274,  1.25993358, -1.18861732, ...,  0.2148127 ,\n",
       "        -0.05102416, -0.5845748 ],\n",
       "       ...,\n",
       "       [-1.38831178,  0.11216658, -0.88165635, ...,  0.12498334,\n",
       "         0.59374351,  0.7097234 ],\n",
       "       [-1.38831178,  0.63139451, -0.77933603, ..., -0.08461851,\n",
       "         0.3006673 , -0.21477532],\n",
       "       [-1.33071973, -1.19956712,  1.01126962, ..., -0.14450476,\n",
       "         0.00759108,  0.52482366]])"
      ]
     },
     "execution_count": 26,
     "metadata": {},
     "output_type": "execute_result"
    }
   ],
   "source": [
    "normalize(X)"
   ]
  },
  {
   "cell_type": "markdown",
   "metadata": {},
   "source": [
    "X = red_wine_data.drop('quality',axis=1).values\n",
    "X\n"
   ]
  },
  {
   "cell_type": "markdown",
   "metadata": {},
   "source": [
    "features = red_wine_data.columns[:-1]\n",
    "features"
   ]
  },
  {
   "cell_type": "code",
   "execution_count": 27,
   "metadata": {},
   "outputs": [],
   "source": [
    "y = red_wine_data['quality'].values\n",
    "y = np.array(y).reshape((len(y),1))  #Reshaping as y has to be a matrix of order rows * 1"
   ]
  },
  {
   "cell_type": "code",
   "execution_count": 28,
   "metadata": {},
   "outputs": [
    {
     "data": {
      "text/plain": [
       "1359"
      ]
     },
     "execution_count": 28,
     "metadata": {},
     "output_type": "execute_result"
    }
   ],
   "source": [
    "length = red_wine_data.shape[0]\n",
    "length"
   ]
  },
  {
   "cell_type": "code",
   "execution_count": 29,
   "metadata": {},
   "outputs": [
    {
     "data": {
      "text/plain": [
       "array([[1.],\n",
       "       [1.],\n",
       "       [1.],\n",
       "       ...,\n",
       "       [1.],\n",
       "       [1.],\n",
       "       [1.]])"
      ]
     },
     "execution_count": 29,
     "metadata": {},
     "output_type": "execute_result"
    }
   ],
   "source": [
    "#for intercept which will be as a0*x0, keeping it as 1, let's add bias\n",
    "bias = np.ones(length).reshape(-1,1)\n",
    "bias"
   ]
  },
  {
   "cell_type": "code",
   "execution_count": 30,
   "metadata": {},
   "outputs": [],
   "source": [
    "# Let's append this to the features matrix\n",
    "X = np.concatenate((bias,X),1)"
   ]
  },
  {
   "cell_type": "code",
   "execution_count": 31,
   "metadata": {},
   "outputs": [
    {
     "data": {
      "text/plain": [
       "array([[ 1.        , -0.52443096,  0.93200015, ..., -0.38404973,\n",
       "        -0.57856134, -0.95437429],\n",
       "       [ 1.        , -0.29406274,  1.91580043, ...,  0.60407328,\n",
       "         0.12482157, -0.5845748 ],\n",
       "       [ 1.        , -0.29406274,  1.25993358, ...,  0.2148127 ,\n",
       "        -0.05102416, -0.5845748 ],\n",
       "       ...,\n",
       "       [ 1.        , -1.38831178,  0.11216658, ...,  0.12498334,\n",
       "         0.59374351,  0.7097234 ],\n",
       "       [ 1.        , -1.38831178,  0.63139451, ..., -0.08461851,\n",
       "         0.3006673 , -0.21477532],\n",
       "       [ 1.        , -1.33071973, -1.19956712, ..., -0.14450476,\n",
       "         0.00759108,  0.52482366]])"
      ]
     },
     "execution_count": 31,
     "metadata": {},
     "output_type": "execute_result"
    }
   ],
   "source": [
    "X"
   ]
  },
  {
   "cell_type": "code",
   "execution_count": 32,
   "metadata": {},
   "outputs": [
    {
     "data": {
      "text/plain": [
       "(1359, 1)"
      ]
     },
     "execution_count": 32,
     "metadata": {},
     "output_type": "execute_result"
    }
   ],
   "source": [
    "y.shape"
   ]
  },
  {
   "cell_type": "code",
   "execution_count": 33,
   "metadata": {},
   "outputs": [
    {
     "data": {
      "text/plain": [
       "(1359, 10)"
      ]
     },
     "execution_count": 33,
     "metadata": {},
     "output_type": "execute_result"
    }
   ],
   "source": [
    "X.shape"
   ]
  },
  {
   "cell_type": "code",
   "execution_count": 34,
   "metadata": {},
   "outputs": [],
   "source": [
    "def train_test_split(X, Y, split):\n",
    "\n",
    "    #randomly assigning split% rows to training set and rest to test set \n",
    "    indices = np.array(range(len(X)))\n",
    "    \n",
    "    train_size = round(split * len(X))\n",
    "\n",
    "    np.random.shuffle(indices)\n",
    "\n",
    "    train_indices = indices[0:train_size]\n",
    "    test_indices = indices[train_size:len(X)]\n",
    "\n",
    "    X_train = X[train_indices, :]\n",
    "    X_test = X[test_indices, :]\n",
    "    y_train = Y[train_indices, :]\n",
    "    y_test = Y[test_indices, :]\n",
    "    \n",
    "    return X_train,y_train, X_test, y_test"
   ]
  },
  {
   "cell_type": "code",
   "execution_count": 35,
   "metadata": {},
   "outputs": [],
   "source": [
    "split = 0.8\n",
    "X_train, y_train, X_test,y_test = train_test_split(X, y, split)"
   ]
  },
  {
   "cell_type": "code",
   "execution_count": 36,
   "metadata": {},
   "outputs": [
    {
     "name": "stdout",
     "output_type": "stream",
     "text": [
      "(1087, 10)\n",
      "(1087, 1)\n",
      "(272, 10)\n",
      "(272, 1)\n"
     ]
    }
   ],
   "source": [
    "\n",
    "# X_train contains 80% of total dataset\n",
    "print(X_train.shape)\n",
    "print(y_train.shape)\n",
    "# X_test contains 20% of total dataset\n",
    "print(X_test.shape)\n",
    "print(y_test.shape)"
   ]
  },
  {
   "cell_type": "code",
   "execution_count": 37,
   "metadata": {},
   "outputs": [
    {
     "data": {
      "text/plain": [
       "array([[ 1.        ,  0.33944986, -0.70766698, ...,  0.00521085,\n",
       "         0.65235875,  0.0625743 ],\n",
       "       [ 1.        ,  1.89443534,  0.00285544, ..., -0.98291216,\n",
       "         0.47651303,  0.98707302],\n",
       "       [ 1.        , -0.9851674 ,  1.47855586, ..., -1.0427984 ,\n",
       "        -0.9302528 ,  1.63422212],\n",
       "       ...,\n",
       "       [ 1.        , -0.63961507,  0.38544444, ...,  1.23287883,\n",
       "        -0.63717659, -0.86192442],\n",
       "       [ 1.        , -0.00610247, -0.21576684, ..., -0.92302591,\n",
       "        -0.34410037, -0.86192442],\n",
       "       [ 1.        ,  0.45463397, -1.2542227 , ..., -0.68348094,\n",
       "         1.12128069,  1.17197276]])"
      ]
     },
     "execution_count": 37,
     "metadata": {},
     "output_type": "execute_result"
    }
   ],
   "source": [
    "X_train"
   ]
  },
  {
   "cell_type": "code",
   "execution_count": 38,
   "metadata": {},
   "outputs": [],
   "source": [
    "def ols_estimator(X, Y):\n",
    "    first_term = np.linalg.inv(np.dot(np.transpose(X_train),X_train ) )\n",
    "    second_term = np.dot(np.transpose(X_train),y_train)\n",
    "    beta = np.dot(first_term, second_term)\n",
    "    return beta"
   ]
  },
  {
   "cell_type": "code",
   "execution_count": 39,
   "metadata": {},
   "outputs": [],
   "source": [
    "def predict(X_test, beta):\n",
    "    return np.dot(X_test, beta)"
   ]
  },
  {
   "cell_type": "markdown",
   "metadata": {},
   "source": [
    "# In the below cell we calculate the optimal vector a ie. a = (X^T * X^-1)* X^T* y. The * here refers to the dot product of the numpy matrices"
   ]
  },
  {
   "cell_type": "code",
   "execution_count": 40,
   "metadata": {},
   "outputs": [
    {
     "name": "stdout",
     "output_type": "stream",
     "text": [
      "[[ 5.62662512e+00]\n",
      " [ 5.73829876e-02]\n",
      " [-2.19145928e-01]\n",
      " [-2.72624022e-02]\n",
      " [-1.08364020e-03]\n",
      " [-8.30568013e-02]\n",
      " [ 4.28670157e-02]\n",
      " [-8.33302728e-02]\n",
      " [ 1.39153757e-01]\n",
      " [ 3.18977331e-01]]\n",
      "(272, 1)\n"
     ]
    }
   ],
   "source": [
    "beta = ols_estimator(X_train, y_train)\n",
    "print(beta)\n",
    "predictions = predict(X_test, beta)\n",
    "\n",
    "print(predictions.shape)"
   ]
  },
  {
   "cell_type": "code",
   "execution_count": 41,
   "metadata": {},
   "outputs": [
    {
     "data": {
      "text/plain": [
       "(10, 1)"
      ]
     },
     "execution_count": 41,
     "metadata": {},
     "output_type": "execute_result"
    }
   ],
   "source": [
    "beta.shape"
   ]
  },
  {
   "cell_type": "code",
   "execution_count": 42,
   "metadata": {},
   "outputs": [
    {
     "data": {
      "text/plain": [
       "(272, 10)"
      ]
     },
     "execution_count": 42,
     "metadata": {},
     "output_type": "execute_result"
    }
   ],
   "source": [
    "X_test.shape"
   ]
  },
  {
   "cell_type": "code",
   "execution_count": 43,
   "metadata": {},
   "outputs": [
    {
     "data": {
      "text/plain": [
       "(10, 1)"
      ]
     },
     "execution_count": 43,
     "metadata": {},
     "output_type": "execute_result"
    }
   ],
   "source": [
    "beta.shape"
   ]
  },
  {
   "cell_type": "code",
   "execution_count": null,
   "metadata": {},
   "outputs": [],
   "source": [
    "predictions.shape"
   ]
  },
  {
   "cell_type": "code",
   "execution_count": null,
   "metadata": {},
   "outputs": [],
   "source": [
    "type(predictions)"
   ]
  },
  {
   "cell_type": "code",
   "execution_count": null,
   "metadata": {},
   "outputs": [],
   "source": [
    "pd.DataFrame({\n",
    "    \"Actual\":np.ravel(y_test),\n",
    "    \"Predictions\":np.ravel(predictions)\n",
    "})"
   ]
  },
  {
   "cell_type": "code",
   "execution_count": null,
   "metadata": {},
   "outputs": [],
   "source": [
    "# Here we are calculating the cost function\n",
    "#which is derivative of the Mean Squared Error\n",
    "#MSE --> (Summation of square of the difference between the actual and predicted values (by pluggin into the equation divided by the dataset size)\n",
    "def cost_function(X_train, y_train, beta):\n",
    "    n = len(y_train)\n",
    "    J = np.sum((X_train.dot(beta) - y_train) ** 2)/(2 * n)\n",
    "    return J"
   ]
  },
  {
   "cell_type": "code",
   "execution_count": null,
   "metadata": {},
   "outputs": [],
   "source": [
    "cost_function(X_train,y_train,beta)  #Note beta was estimated using the Ordinary Least Squares Estimator"
   ]
  },
  {
   "cell_type": "markdown",
   "metadata": {},
   "source": [
    "Gradient descent is an iterative technique for minimizing the squared error. Gradient descent works\n",
    "by trying different parameter values until the model with the lowest mean squared error is found\n",
    "\n",
    "alpha is the learning rate"
   ]
  },
  {
   "cell_type": "code",
   "execution_count": null,
   "metadata": {},
   "outputs": [],
   "source": [
    "alpha = 0.001"
   ]
  },
  {
   "cell_type": "code",
   "execution_count": null,
   "metadata": {},
   "outputs": [],
   "source": [
    "def gradient_descent(X, Y, B, alpha, iterations):\n",
    "    cost_history = [0] * iterations\n",
    "    m = len(Y)\n",
    "    for iteration in range(iterations):\n",
    "        # Hypothesis Values\n",
    "        h = X.dot(B)\n",
    "        # Difference b/w Hypothesis and Actual Y\n",
    "        loss = h - Y\n",
    "        # Gradient Calculation\n",
    "        gradient = X.T.dot(loss) / m\n",
    "        # Changing Values of B using Gradient\n",
    "        B = B - alpha * gradient\n",
    "        # New Cost Value\n",
    "        cost = cost_function(X, Y, B)\n",
    "        cost_history[iteration] = cost\n",
    "        \n",
    "    return B, cost_history"
   ]
  },
  {
   "cell_type": "code",
   "execution_count": null,
   "metadata": {},
   "outputs": [],
   "source": [
    "# 100000 Iterations\n",
    "grad_beta, cost_history = gradient_descent(X, y, beta, alpha, 1000)\n",
    "\n",
    "# New Values of B\n",
    "print(grad_beta)\n",
    "\n",
    "# Final Cost of new B\n",
    "print(cost_history[-1])\n"
   ]
  },
  {
   "cell_type": "code",
   "execution_count": null,
   "metadata": {},
   "outputs": [],
   "source": [
    "predictions = predict(X_test, grad_beta)\n",
    "\n",
    "print(predictions.shape)"
   ]
  },
  {
   "cell_type": "code",
   "execution_count": null,
   "metadata": {},
   "outputs": [],
   "source": [
    "pd.DataFrame({\n",
    "    \"Actual\":np.ravel(y_test),\n",
    "    \"Predictions\":np.ravel(predictions)\n",
    "})"
   ]
  },
  {
   "cell_type": "code",
   "execution_count": null,
   "metadata": {},
   "outputs": [],
   "source": [
    "def calculate_metrics(predictions, Y_test):\n",
    "\n",
    "    #calculating mean absolute error\n",
    "    MAE = np.mean(np.abs(predictions-Y_test))\n",
    "    N = X.shape[0]\n",
    "    p = X.shape[1]-1 #No of predictor variables, -1 as we had concatenated one's as beta-zero\n",
    "    #calculating root mean square error\n",
    "    MSE = np.square(np.subtract(Y_test,predictions)).mean() \n",
    "    RMSE = math.sqrt(MSE)\n",
    "\n",
    "    #Let's calculate r_square\n",
    "    ssr = np.sum(np.square((Y_test- predictions)))   #Sum of squares residuals  (actual-predicted)\n",
    "    mean = np.mean(Y_test)\n",
    "    sst = np.sum(np.square(Y_test-mean))    #Sum of squares totals (actual-mean)  sst = ssresiduals +ssregression\n",
    "    r_square = 1 - (ssr/sst)      \n",
    "    adj_r_square = 1 - (((1-r_square)*(1599-1))/(1599-11-1))\n",
    "\n",
    "    return MAE, RMSE, r_square,adj_r_square"
   ]
  },
  {
   "cell_type": "code",
   "execution_count": null,
   "metadata": {},
   "outputs": [],
   "source": [
    "mae, rmse, r_square,adj_r_square = calculate_metrics(predictions, y_test)\n",
    "print(\"The Mean Absolute Error: \", mae)\n",
    "print(\"The Root Mean Square Error: \", rmse)\n",
    "print(\"The R square value: \", r_square)\n",
    "print(\"The Adjusted R square value is : \", adj_r_square)"
   ]
  },
  {
   "cell_type": "markdown",
   "metadata": {},
   "source": [
    "After several tuning of alpha,split size,and iterations in gradient descent function we get above value for the metrics"
   ]
  },
  {
   "cell_type": "code",
   "execution_count": null,
   "metadata": {},
   "outputs": [],
   "source": []
  },
  {
   "cell_type": "code",
   "execution_count": null,
   "metadata": {},
   "outputs": [],
   "source": []
  },
  {
   "cell_type": "code",
   "execution_count": null,
   "metadata": {},
   "outputs": [],
   "source": []
  }
 ],
 "metadata": {
  "kernelspec": {
   "display_name": "Python 3",
   "language": "python",
   "name": "python3"
  },
  "language_info": {
   "codemirror_mode": {
    "name": "ipython",
    "version": 3
   },
   "file_extension": ".py",
   "mimetype": "text/x-python",
   "name": "python",
   "nbconvert_exporter": "python",
   "pygments_lexer": "ipython3",
   "version": "3.8.5"
  }
 },
 "nbformat": 4,
 "nbformat_minor": 4
}
