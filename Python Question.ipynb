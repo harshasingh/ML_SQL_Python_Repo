{
 "cells": [
  {
   "cell_type": "markdown",
   "metadata": {},
   "source": [
    "# Python Question"
   ]
  },
  {
   "cell_type": "markdown",
   "metadata": {},
   "source": [
    "Q1. Given below are the 2 dataset links. Please get the data from the links and write a code to get the result in the sample output in .CSV file format"
   ]
  },
  {
   "cell_type": "code",
   "execution_count": 1,
   "metadata": {},
   "outputs": [],
   "source": [
    "#Importing the required libraries\n",
    "import pandas as pd\n",
    "from numpy import nan\n",
    "import json"
   ]
  },
  {
   "cell_type": "code",
   "execution_count": 2,
   "metadata": {},
   "outputs": [],
   "source": [
    "activity_data = pd.read_csv(\"activity_data.csv\")"
   ]
  },
  {
   "cell_type": "code",
   "execution_count": 3,
   "metadata": {},
   "outputs": [
    {
     "data": {
      "text/html": [
       "<div>\n",
       "<style scoped>\n",
       "    .dataframe tbody tr th:only-of-type {\n",
       "        vertical-align: middle;\n",
       "    }\n",
       "\n",
       "    .dataframe tbody tr th {\n",
       "        vertical-align: top;\n",
       "    }\n",
       "\n",
       "    .dataframe thead th {\n",
       "        text-align: right;\n",
       "    }\n",
       "</style>\n",
       "<table border=\"1\" class=\"dataframe\">\n",
       "  <thead>\n",
       "    <tr style=\"text-align: right;\">\n",
       "      <th></th>\n",
       "      <th>media_type</th>\n",
       "      <th>watched</th>\n",
       "      <th>rating</th>\n",
       "      <th>watchlist</th>\n",
       "      <th>profile_id</th>\n",
       "      <th>id</th>\n",
       "      <th>hide</th>\n",
       "    </tr>\n",
       "  </thead>\n",
       "  <tbody>\n",
       "    <tr>\n",
       "      <th>0</th>\n",
       "      <td>{'S': 'movies'}</td>\n",
       "      <td>{'M': {'value': {'NULL': True}, 'timestamp': {...</td>\n",
       "      <td>{'M': {'value': {'NULL': True}, 'timestamp': {...</td>\n",
       "      <td>{'M': {'value': {'S': '0'}, 'timestamp': {'S':...</td>\n",
       "      <td>{'S': 'b1d89c45-ed9b-4a0e-8d78-28e628c2fb8c'}</td>\n",
       "      <td>{'S': '744_movies'}</td>\n",
       "      <td>{'M': {'value': {'NULL': True}, 'timestamp': {...</td>\n",
       "    </tr>\n",
       "    <tr>\n",
       "      <th>1</th>\n",
       "      <td>{'S': 'movies'}</td>\n",
       "      <td>{'M': {'value': {'NULL': True}, 'timestamp': {...</td>\n",
       "      <td>{'M': {'value': {'S': '3'}, 'timestamp': {'S':...</td>\n",
       "      <td>{'M': {'value': {'NULL': True}, 'timestamp': {...</td>\n",
       "      <td>{'S': 'b1d89c45-ed9b-4a0e-8d78-28e628c2fb8c'}</td>\n",
       "      <td>{'S': '820_movies'}</td>\n",
       "      <td>{'M': {'value': {'NULL': True}, 'timestamp': {...</td>\n",
       "    </tr>\n",
       "    <tr>\n",
       "      <th>2</th>\n",
       "      <td>{'S': 'movies'}</td>\n",
       "      <td>{'M': {'value': {'NULL': True}, 'timestamp': {...</td>\n",
       "      <td>{'M': {'value': {'NULL': True}, 'timestamp': {...</td>\n",
       "      <td>{'M': {'value': {'S': '0'}, 'timestamp': {'S':...</td>\n",
       "      <td>{'S': 'b1d89c45-ed9b-4a0e-8d78-28e628c2fb8c'}</td>\n",
       "      <td>{'S': '402_movies'}</td>\n",
       "      <td>{'M': {'value': {'NULL': True}, 'timestamp': {...</td>\n",
       "    </tr>\n",
       "    <tr>\n",
       "      <th>3</th>\n",
       "      <td>{'S': 'movies'}</td>\n",
       "      <td>{'M': {'value': {'NULL': True}, 'timestamp': {...</td>\n",
       "      <td>{'M': {'value': {'S': '3'}, 'timestamp': {'S':...</td>\n",
       "      <td>{'M': {'value': {'S': '0'}, 'timestamp': {'S':...</td>\n",
       "      <td>{'S': 'b1d89c45-ed9b-4a0e-8d78-28e628c2fb8c'}</td>\n",
       "      <td>{'S': '87_movies'}</td>\n",
       "      <td>{'M': {'value': {'NULL': True}, 'timestamp': {...</td>\n",
       "    </tr>\n",
       "    <tr>\n",
       "      <th>4</th>\n",
       "      <td>{'S': 'movies'}</td>\n",
       "      <td>{'M': {'value': {'NULL': True}, 'timestamp': {...</td>\n",
       "      <td>{'M': {'value': {'NULL': True}, 'timestamp': {...</td>\n",
       "      <td>{'M': {'value': {'S': '0'}, 'timestamp': {'S':...</td>\n",
       "      <td>{'S': 'b1d89c45-ed9b-4a0e-8d78-28e628c2fb8c'}</td>\n",
       "      <td>{'S': '810_movies'}</td>\n",
       "      <td>{'M': {'value': {'NULL': True}, 'timestamp': {...</td>\n",
       "    </tr>\n",
       "  </tbody>\n",
       "</table>\n",
       "</div>"
      ],
      "text/plain": [
       "        media_type                                            watched  \\\n",
       "0  {'S': 'movies'}  {'M': {'value': {'NULL': True}, 'timestamp': {...   \n",
       "1  {'S': 'movies'}  {'M': {'value': {'NULL': True}, 'timestamp': {...   \n",
       "2  {'S': 'movies'}  {'M': {'value': {'NULL': True}, 'timestamp': {...   \n",
       "3  {'S': 'movies'}  {'M': {'value': {'NULL': True}, 'timestamp': {...   \n",
       "4  {'S': 'movies'}  {'M': {'value': {'NULL': True}, 'timestamp': {...   \n",
       "\n",
       "                                              rating  \\\n",
       "0  {'M': {'value': {'NULL': True}, 'timestamp': {...   \n",
       "1  {'M': {'value': {'S': '3'}, 'timestamp': {'S':...   \n",
       "2  {'M': {'value': {'NULL': True}, 'timestamp': {...   \n",
       "3  {'M': {'value': {'S': '3'}, 'timestamp': {'S':...   \n",
       "4  {'M': {'value': {'NULL': True}, 'timestamp': {...   \n",
       "\n",
       "                                           watchlist  \\\n",
       "0  {'M': {'value': {'S': '0'}, 'timestamp': {'S':...   \n",
       "1  {'M': {'value': {'NULL': True}, 'timestamp': {...   \n",
       "2  {'M': {'value': {'S': '0'}, 'timestamp': {'S':...   \n",
       "3  {'M': {'value': {'S': '0'}, 'timestamp': {'S':...   \n",
       "4  {'M': {'value': {'S': '0'}, 'timestamp': {'S':...   \n",
       "\n",
       "                                      profile_id                   id  \\\n",
       "0  {'S': 'b1d89c45-ed9b-4a0e-8d78-28e628c2fb8c'}  {'S': '744_movies'}   \n",
       "1  {'S': 'b1d89c45-ed9b-4a0e-8d78-28e628c2fb8c'}  {'S': '820_movies'}   \n",
       "2  {'S': 'b1d89c45-ed9b-4a0e-8d78-28e628c2fb8c'}  {'S': '402_movies'}   \n",
       "3  {'S': 'b1d89c45-ed9b-4a0e-8d78-28e628c2fb8c'}   {'S': '87_movies'}   \n",
       "4  {'S': 'b1d89c45-ed9b-4a0e-8d78-28e628c2fb8c'}  {'S': '810_movies'}   \n",
       "\n",
       "                                                hide  \n",
       "0  {'M': {'value': {'NULL': True}, 'timestamp': {...  \n",
       "1  {'M': {'value': {'NULL': True}, 'timestamp': {...  \n",
       "2  {'M': {'value': {'NULL': True}, 'timestamp': {...  \n",
       "3  {'M': {'value': {'NULL': True}, 'timestamp': {...  \n",
       "4  {'M': {'value': {'NULL': True}, 'timestamp': {...  "
      ]
     },
     "execution_count": 3,
     "metadata": {},
     "output_type": "execute_result"
    }
   ],
   "source": [
    "activity_data.head()   #We observe all values in json/key value paris, so it will easy to convert to dict and work"
   ]
  },
  {
   "cell_type": "code",
   "execution_count": 4,
   "metadata": {},
   "outputs": [
    {
     "data": {
      "text/plain": [
       "5"
      ]
     },
     "execution_count": 4,
     "metadata": {},
     "output_type": "execute_result"
    }
   ],
   "source": [
    "activity_data.shape[0]"
   ]
  },
  {
   "cell_type": "code",
   "execution_count": 5,
   "metadata": {},
   "outputs": [],
   "source": [
    "data = pd.read_csv(\"data.csv\")   #Read the second Movies data csv fil"
   ]
  },
  {
   "cell_type": "code",
   "execution_count": 6,
   "metadata": {},
   "outputs": [
    {
     "data": {
      "text/plain": [
       "(47, 4)"
      ]
     },
     "execution_count": 6,
     "metadata": {},
     "output_type": "execute_result"
    }
   ],
   "source": [
    "data.shape"
   ]
  },
  {
   "cell_type": "code",
   "execution_count": 7,
   "metadata": {},
   "outputs": [
    {
     "data": {
      "text/html": [
       "<div>\n",
       "<style scoped>\n",
       "    .dataframe tbody tr th:only-of-type {\n",
       "        vertical-align: middle;\n",
       "    }\n",
       "\n",
       "    .dataframe tbody tr th {\n",
       "        vertical-align: top;\n",
       "    }\n",
       "\n",
       "    .dataframe thead th {\n",
       "        text-align: right;\n",
       "    }\n",
       "</style>\n",
       "<table border=\"1\" class=\"dataframe\">\n",
       "  <thead>\n",
       "    <tr style=\"text-align: right;\">\n",
       "      <th></th>\n",
       "      <th>_type</th>\n",
       "      <th>_id</th>\n",
       "      <th>_score</th>\n",
       "      <th>_source</th>\n",
       "    </tr>\n",
       "  </thead>\n",
       "  <tbody>\n",
       "    <tr>\n",
       "      <th>0</th>\n",
       "      <td>movies</td>\n",
       "      <td>97</td>\n",
       "      <td>20.848059</td>\n",
       "      <td>{'cast': ['Jeff Bridges', 'Bruce Boxleitner', ...</td>\n",
       "    </tr>\n",
       "    <tr>\n",
       "      <th>1</th>\n",
       "      <td>movies</td>\n",
       "      <td>507</td>\n",
       "      <td>10.478757</td>\n",
       "      <td>{'cast': ['Eric Stoltz', 'Julie Delpy', 'Jean-...</td>\n",
       "    </tr>\n",
       "  </tbody>\n",
       "</table>\n",
       "</div>"
      ],
      "text/plain": [
       "    _type  _id     _score                                            _source\n",
       "0  movies   97  20.848059  {'cast': ['Jeff Bridges', 'Bruce Boxleitner', ...\n",
       "1  movies  507  10.478757  {'cast': ['Eric Stoltz', 'Julie Delpy', 'Jean-..."
      ]
     },
     "execution_count": 7,
     "metadata": {},
     "output_type": "execute_result"
    }
   ],
   "source": [
    "data.head(2)"
   ]
  },
  {
   "cell_type": "code",
   "execution_count": 8,
   "metadata": {},
   "outputs": [
    {
     "data": {
      "text/plain": [
       "0    {'cast': ['Jeff Bridges', 'Bruce Boxleitner', 'David Warner', 'Cindy Morgan', 'Barnard Hughes', 'Dan Shor', 'Peter Jurasik', 'Tony Stephano', 'Craig Chudy', 'Vince Deadrick Jr.', 'Sam Schatz', 'Michael Dudikoff'], 'streaming_modes': ['Subscription'], 'thumbnail_id': {'mob': '97-mob-w342-zwSFEczP7AzqugAHHIX3zHniT0t', 'tv': '97-tv-w780-zwSFEczP7AzqugAHHIX3zHniT0t', 'web': '97-web-w500-zwSFEczP7AzqugAHHIX3zHniT0t'}, 'media_type': 'movies', 'year': '1982', 'genres': ['Science Fiction', 'Action', 'Adventure'], 'ratings': {'internet_movie_database': '6.8/10'}, 'language': 'English', 'id': '97', 'services': ['Jio Cinema'], 'title_name': 'Tron', 'sooper_original': False}\n",
       "Name: _source, dtype: object"
      ]
     },
     "execution_count": 8,
     "metadata": {},
     "output_type": "execute_result"
    }
   ],
   "source": [
    "pd.set_option(\"display.max_colwidth\", 1)\n",
    "data[\"_source\"].head(1)"
   ]
  },
  {
   "cell_type": "code",
   "execution_count": 9,
   "metadata": {},
   "outputs": [
    {
     "name": "stdout",
     "output_type": "stream",
     "text": [
      "{'cast': ['Jeff Bridges', 'Bruce Boxleitner', 'David Warner', 'Cindy Morgan', 'Barnard Hughes', 'Dan Shor', 'Peter Jurasik', 'Tony Stephano', 'Craig Chudy', 'Vince Deadrick Jr.', 'Sam Schatz', 'Michael Dudikoff'], 'streaming_modes': ['Subscription'], 'thumbnail_id': {'mob': '97-mob-w342-zwSFEczP7AzqugAHHIX3zHniT0t', 'tv': '97-tv-w780-zwSFEczP7AzqugAHHIX3zHniT0t', 'web': '97-web-w500-zwSFEczP7AzqugAHHIX3zHniT0t'}, 'media_type': 'movies', 'year': '1982', 'genres': ['Science Fiction', 'Action', 'Adventure'], 'ratings': {'internet_movie_database': '6.8/10'}, 'language': 'English', 'id': '97', 'services': ['Jio Cinema'], 'title_name': 'Tron', 'sooper_original': False\n"
     ]
    }
   ],
   "source": [
    "print(data[\"_source\"][0][:-1])"
   ]
  },
  {
   "cell_type": "code",
   "execution_count": 10,
   "metadata": {},
   "outputs": [
    {
     "name": "stderr",
     "output_type": "stream",
     "text": [
      "<ipython-input-10-6dda5d21d60b>:4: SettingWithCopyWarning: \n",
      "A value is trying to be set on a copy of a slice from a DataFrame\n",
      "\n",
      "See the caveats in the documentation: https://pandas.pydata.org/pandas-docs/stable/user_guide/indexing.html#returning-a-view-versus-a-copy\n",
      "  data['_source'][cnt]=eval(data['_source'][cnt])\n"
     ]
    }
   ],
   "source": [
    "# We have output format to have 4 more key value pairs, so converting each value of target column _source to dictionary and\n",
    "# map the new key/value pairs\n",
    "for cnt in range(47):\n",
    "    data['_source'][cnt]=eval(data['_source'][cnt])\n",
    "    data['_source'][cnt]['rating'] =nan\n",
    "    data['_source'][cnt]['hide'] =nan\n",
    "    data['_source'][cnt]['watchlist'] =nan\n",
    "    data['_source'][cnt]['watched'] =nan"
   ]
  },
  {
   "cell_type": "code",
   "execution_count": 11,
   "metadata": {},
   "outputs": [
    {
     "data": {
      "text/plain": [
       "dict"
      ]
     },
     "execution_count": 11,
     "metadata": {},
     "output_type": "execute_result"
    }
   ],
   "source": [
    "type(data['_source'][0])  #Done converting to a dictionary"
   ]
  },
  {
   "cell_type": "code",
   "execution_count": 12,
   "metadata": {},
   "outputs": [
    {
     "name": "stdout",
     "output_type": "stream",
     "text": [
      "dict_keys(['cast', 'streaming_modes', 'thumbnail_id', 'media_type', 'year', 'genres', 'ratings', 'language', 'id', 'services', 'title_name', 'sooper_original', 'rating', 'hide', 'watchlist', 'watched'])\n"
     ]
    }
   ],
   "source": [
    "print(data[\"_source\"][0].keys())"
   ]
  },
  {
   "cell_type": "code",
   "execution_count": 13,
   "metadata": {},
   "outputs": [
    {
     "data": {
      "text/plain": [
       "\"{'M': {'value': {'NULL': True}, 'timestamp': {'NULL': True}}}\""
      ]
     },
     "execution_count": 13,
     "metadata": {},
     "output_type": "execute_result"
    }
   ],
   "source": [
    "activity_data.iloc[0]['rating']"
   ]
  },
  {
   "cell_type": "code",
   "execution_count": 17,
   "metadata": {},
   "outputs": [],
   "source": [
    "cols = activity_data.columns"
   ]
  },
  {
   "cell_type": "code",
   "execution_count": 18,
   "metadata": {},
   "outputs": [],
   "source": [
    "#For easy traversing converting the activity_data also to dictionary values\n",
    "# the movie dataframe will be joined with this dataframe using the id column to get the values\n",
    "for cnt in range(activity_data.shape[0]):\n",
    "    for cname in cols:\n",
    "        activity_data.iloc[cnt][cname] = eval(activity_data.iloc[cnt][cname])"
   ]
  },
  {
   "cell_type": "code",
   "execution_count": 19,
   "metadata": {},
   "outputs": [
    {
     "data": {
      "text/plain": [
       "{'NULL': True}"
      ]
     },
     "execution_count": 19,
     "metadata": {},
     "output_type": "execute_result"
    }
   ],
   "source": [
    "(activity_data.iloc[0]['rating']['M']['value'])"
   ]
  },
  {
   "cell_type": "code",
   "execution_count": 20,
   "metadata": {},
   "outputs": [
    {
     "data": {
      "text/plain": [
       "dict"
      ]
     },
     "execution_count": 20,
     "metadata": {},
     "output_type": "execute_result"
    }
   ],
   "source": [
    "type(activity_data[\"rating\"][0]) # converted to dictionary"
   ]
  },
  {
   "cell_type": "code",
   "execution_count": 21,
   "metadata": {},
   "outputs": [
    {
     "name": "stdout",
     "output_type": "stream",
     "text": [
      "12\n",
      "23\n",
      "27\n",
      "34\n",
      "9\n"
     ]
    }
   ],
   "source": [
    "for ctr in range(5):\n",
    "    id=int(activity_data[\"id\"][ctr][\"S\"].split(\"_\")[0])\n",
    "    pos=data[data[\"_id\"]==id].index[0]\n",
    "# To see in which row positions alone value getting updated instead of nan we did before already\n",
    "    print(pos)\n",
    "    if \"NULL\" not in activity_data[\"rating\"][ctr][\"M\"][\"value\"]:\n",
    "        data[\"_source\"][pos][\"rating\"]=(activity_data[\"rating\"][ctr][\"M\"][\"value\"][\"S\"])\n",
    "    if \"NULL\" not in activity_data[\"hide\"][ctr][\"M\"][\"value\"]:\n",
    "        data[\"_source\"][pos][\"hide\"]=(activity_data[\"hide\"][ctr][\"M\"][\"value\"][\"S\"])\n",
    "    if \"NULL\" not in activity_data[\"watched\"][ctr][\"M\"][\"value\"]:\n",
    "        data[\"_source\"][pos][\"watched\"]=(activity_data[\"watched\"][ctr][\"M\"][\"value\"][\"S\"])\n",
    "    if \"NULL\" not in activity_data[\"watchlist\"][ctr][\"M\"][\"value\"]:\n",
    "        data[\"_source\"][pos][\"watchlist\"]=(activity_data[\"watchlist\"][ctr][\"M\"][\"value\"][\"S\"])"
   ]
  },
  {
   "cell_type": "code",
   "execution_count": 22,
   "metadata": {},
   "outputs": [
    {
     "name": "stdout",
     "output_type": "stream",
     "text": [
      "{'cast': ['Tom Cruise', 'Kelly McGillis', 'Val Kilmer', 'Anthony Edwards', 'Tom Skerritt', 'Michael Ironside', 'John Stockwell', 'Barry Tubb', 'Rick Rossovich', 'Tim Robbins', 'Meg Ryan', 'Whip Hubley', 'Adrian Pasdar', 'James Tolkan', 'Clarence Gilyard Jr.', 'Randall Brady', 'Duke Stroud', 'Brian Sheehan', 'Ron Clark'], 'streaming_modes': ['Subscription', 'Pay & Watch'], 'thumbnail_id': {'mob': '744-mob-w342-xUuHj3CgmZQ9P2cMaqQs4J0d4Zc', 'tv': '744-tv-w780-xUuHj3CgmZQ9P2cMaqQs4J0d4Zc', 'web': '744-web-w500-xUuHj3CgmZQ9P2cMaqQs4J0d4Zc'}, 'media_type': 'movies', 'year': '1986', 'genres': ['Action', 'Drama'], 'ratings': {'internet_movie_database': '6.9/10'}, 'language': 'English', 'id': '744', 'services': ['Apple iTunes', 'Jio Cinema'], 'title_name': 'Top Gun', 'sooper_original': False, 'rating': nan, 'hide': nan, 'watchlist': '0', 'watched': nan}\n"
     ]
    }
   ],
   "source": [
    "print(data[\"_source\"][12])   #Observe watchlist is 0 instead of nan"
   ]
  },
  {
   "cell_type": "code",
   "execution_count": 23,
   "metadata": {},
   "outputs": [
    {
     "data": {
      "text/html": [
       "<div>\n",
       "<style scoped>\n",
       "    .dataframe tbody tr th:only-of-type {\n",
       "        vertical-align: middle;\n",
       "    }\n",
       "\n",
       "    .dataframe tbody tr th {\n",
       "        vertical-align: top;\n",
       "    }\n",
       "\n",
       "    .dataframe thead th {\n",
       "        text-align: right;\n",
       "    }\n",
       "</style>\n",
       "<table border=\"1\" class=\"dataframe\">\n",
       "  <thead>\n",
       "    <tr style=\"text-align: right;\">\n",
       "      <th></th>\n",
       "      <th>_source</th>\n",
       "    </tr>\n",
       "  </thead>\n",
       "  <tbody>\n",
       "    <tr>\n",
       "      <th>0</th>\n",
       "      <td>{'cast': ['Jeff Bridges', 'Bruce Boxleitner', 'David Warner', 'Cindy Morgan', 'Barnard Hughes', 'Dan Shor', 'Peter Jurasik', 'Tony Stephano', 'Craig Chudy', 'Vince Deadrick Jr.', 'Sam Schatz', 'Michael Dudikoff'], 'streaming_modes': ['Subscription'], 'thumbnail_id': {'mob': '97-mob-w342-zwSFEczP7AzqugAHHIX3zHniT0t', 'tv': '97-tv-w780-zwSFEczP7AzqugAHHIX3zHniT0t', 'web': '97-web-w500-zwSFEczP7AzqugAHHIX3zHniT0t'}, 'media_type': 'movies', 'year': '1982', 'genres': ['Science Fiction', 'Action', 'Adventure'], 'ratings': {'internet_movie_database': '6.8/10'}, 'language': 'English', 'id': '97', 'services': ['Jio Cinema'], 'title_name': 'Tron', 'sooper_original': False, 'rating': nan, 'hide': nan, 'watchlist': nan, 'watched': nan}</td>\n",
       "    </tr>\n",
       "    <tr>\n",
       "      <th>1</th>\n",
       "      <td>{'cast': ['Eric Stoltz', 'Julie Delpy', 'Jean-Hugues Anglade', 'Tai Thai', 'Bruce Ramsay', 'Kario Salem', 'Salvator Xuereb', 'Gary Kemp', 'Martin Raymond', 'Eric Pascal Chaltiel', 'Cecilia Peck', 'Ron Jeremy', 'Gladys Holland', 'Kimberly Beck', 'Djimon Hounsou', 'Annette Goodman'], 'streaming_modes': None, 'thumbnail_id': {'mob': '507-mob-w342-sbzhigU1L5C9xJUUEAv1P2FlGfW', 'tv': '507-tv-w780-sbzhigU1L5C9xJUUEAv1P2FlGfW', 'web': '507-web-w500-sbzhigU1L5C9xJUUEAv1P2FlGfW'}, 'media_type': 'movies', 'year': '1993', 'genres': ['Action', 'Crime', 'Drama', 'Thriller'], 'ratings': {'internet_movie_database': '6.5/10'}, 'language': 'English', 'id': '507', 'services': None, 'title_name': 'Killing Zoe', 'sooper_original': False, 'rating': nan, 'hide': nan, 'watchlist': nan, 'watched': nan}</td>\n",
       "    </tr>\n",
       "  </tbody>\n",
       "</table>\n",
       "</div>"
      ],
      "text/plain": [
       "                                                                                                                                                                                                                                                                                                                                                                                                                                                                                                                                                                                                                                                                                                                                                                                                                 _source\n",
       "0  {'cast': ['Jeff Bridges', 'Bruce Boxleitner', 'David Warner', 'Cindy Morgan', 'Barnard Hughes', 'Dan Shor', 'Peter Jurasik', 'Tony Stephano', 'Craig Chudy', 'Vince Deadrick Jr.', 'Sam Schatz', 'Michael Dudikoff'], 'streaming_modes': ['Subscription'], 'thumbnail_id': {'mob': '97-mob-w342-zwSFEczP7AzqugAHHIX3zHniT0t', 'tv': '97-tv-w780-zwSFEczP7AzqugAHHIX3zHniT0t', 'web': '97-web-w500-zwSFEczP7AzqugAHHIX3zHniT0t'}, 'media_type': 'movies', 'year': '1982', 'genres': ['Science Fiction', 'Action', 'Adventure'], 'ratings': {'internet_movie_database': '6.8/10'}, 'language': 'English', 'id': '97', 'services': ['Jio Cinema'], 'title_name': 'Tron', 'sooper_original': False, 'rating': nan, 'hide': nan, 'watchlist': nan, 'watched': nan}                                                        \n",
       "1  {'cast': ['Eric Stoltz', 'Julie Delpy', 'Jean-Hugues Anglade', 'Tai Thai', 'Bruce Ramsay', 'Kario Salem', 'Salvator Xuereb', 'Gary Kemp', 'Martin Raymond', 'Eric Pascal Chaltiel', 'Cecilia Peck', 'Ron Jeremy', 'Gladys Holland', 'Kimberly Beck', 'Djimon Hounsou', 'Annette Goodman'], 'streaming_modes': None, 'thumbnail_id': {'mob': '507-mob-w342-sbzhigU1L5C9xJUUEAv1P2FlGfW', 'tv': '507-tv-w780-sbzhigU1L5C9xJUUEAv1P2FlGfW', 'web': '507-web-w500-sbzhigU1L5C9xJUUEAv1P2FlGfW'}, 'media_type': 'movies', 'year': '1993', 'genres': ['Action', 'Crime', 'Drama', 'Thriller'], 'ratings': {'internet_movie_database': '6.5/10'}, 'language': 'English', 'id': '507', 'services': None, 'title_name': 'Killing Zoe', 'sooper_original': False, 'rating': nan, 'hide': nan, 'watchlist': nan, 'watched': nan}"
      ]
     },
     "execution_count": 23,
     "metadata": {},
     "output_type": "execute_result"
    }
   ],
   "source": [
    "# Now let's read the output csv file\n",
    "\n",
    "output_data = pd.read_csv(\"output.csv\") \n",
    "output_data.head(2)"
   ]
  },
  {
   "cell_type": "code",
   "execution_count": 24,
   "metadata": {},
   "outputs": [
    {
     "data": {
      "text/html": [
       "<div>\n",
       "<style scoped>\n",
       "    .dataframe tbody tr th:only-of-type {\n",
       "        vertical-align: middle;\n",
       "    }\n",
       "\n",
       "    .dataframe tbody tr th {\n",
       "        vertical-align: top;\n",
       "    }\n",
       "\n",
       "    .dataframe thead th {\n",
       "        text-align: right;\n",
       "    }\n",
       "</style>\n",
       "<table border=\"1\" class=\"dataframe\">\n",
       "  <thead>\n",
       "    <tr style=\"text-align: right;\">\n",
       "      <th></th>\n",
       "      <th>_source</th>\n",
       "    </tr>\n",
       "  </thead>\n",
       "  <tbody>\n",
       "    <tr>\n",
       "      <th>0</th>\n",
       "      <td>{'cast': ['Jeff Bridges', 'Bruce Boxleitner', 'David Warner', 'Cindy Morgan', 'Barnard Hughes', 'Dan Shor', 'Peter Jurasik', 'Tony Stephano', 'Craig Chudy', 'Vince Deadrick Jr.', 'Sam Schatz', 'Michael Dudikoff'], 'streaming_modes': ['Subscription'], 'thumbnail_id': {'mob': '97-mob-w342-zwSFEczP7AzqugAHHIX3zHniT0t', 'tv': '97-tv-w780-zwSFEczP7AzqugAHHIX3zHniT0t', 'web': '97-web-w500-zwSFEczP7AzqugAHHIX3zHniT0t'}, 'media_type': 'movies', 'year': '1982', 'genres': ['Science Fiction', 'Action', 'Adventure'], 'ratings': {'internet_movie_database': '6.8/10'}, 'language': 'English', 'id': '97', 'services': ['Jio Cinema'], 'title_name': 'Tron', 'sooper_original': False, 'rating': nan, 'hide': nan, 'watchlist': nan, 'watched': nan}</td>\n",
       "    </tr>\n",
       "  </tbody>\n",
       "</table>\n",
       "</div>"
      ],
      "text/plain": [
       "                                                                                                                                                                                                                                                                                                                                                                                                                                                                                                                                                                                                                                                                                                                                                         _source\n",
       "0  {'cast': ['Jeff Bridges', 'Bruce Boxleitner', 'David Warner', 'Cindy Morgan', 'Barnard Hughes', 'Dan Shor', 'Peter Jurasik', 'Tony Stephano', 'Craig Chudy', 'Vince Deadrick Jr.', 'Sam Schatz', 'Michael Dudikoff'], 'streaming_modes': ['Subscription'], 'thumbnail_id': {'mob': '97-mob-w342-zwSFEczP7AzqugAHHIX3zHniT0t', 'tv': '97-tv-w780-zwSFEczP7AzqugAHHIX3zHniT0t', 'web': '97-web-w500-zwSFEczP7AzqugAHHIX3zHniT0t'}, 'media_type': 'movies', 'year': '1982', 'genres': ['Science Fiction', 'Action', 'Adventure'], 'ratings': {'internet_movie_database': '6.8/10'}, 'language': 'English', 'id': '97', 'services': ['Jio Cinema'], 'title_name': 'Tron', 'sooper_original': False, 'rating': nan, 'hide': nan, 'watchlist': nan, 'watched': nan}"
      ]
     },
     "execution_count": 24,
     "metadata": {},
     "output_type": "execute_result"
    }
   ],
   "source": [
    "final_df = pd.DataFrame(data[\"_source\"])\n",
    "#data4=pd.DataFrame(data1,columns=['_source'])\n",
    "final_df.head(1)"
   ]
  },
  {
   "cell_type": "code",
   "execution_count": 25,
   "metadata": {},
   "outputs": [
    {
     "data": {
      "text/html": [
       "<div>\n",
       "<style scoped>\n",
       "    .dataframe tbody tr th:only-of-type {\n",
       "        vertical-align: middle;\n",
       "    }\n",
       "\n",
       "    .dataframe tbody tr th {\n",
       "        vertical-align: top;\n",
       "    }\n",
       "\n",
       "    .dataframe thead th {\n",
       "        text-align: right;\n",
       "    }\n",
       "</style>\n",
       "<table border=\"1\" class=\"dataframe\">\n",
       "  <thead>\n",
       "    <tr style=\"text-align: right;\">\n",
       "      <th></th>\n",
       "      <th>_source</th>\n",
       "    </tr>\n",
       "  </thead>\n",
       "  <tbody>\n",
       "    <tr>\n",
       "      <th>0</th>\n",
       "      <td>{'cast': ['Jeff Bridges', 'Bruce Boxleitner', 'David Warner', 'Cindy Morgan', 'Barnard Hughes', 'Dan Shor', 'Peter Jurasik', 'Tony Stephano', 'Craig Chudy', 'Vince Deadrick Jr.', 'Sam Schatz', 'Michael Dudikoff'], 'streaming_modes': ['Subscription'], 'thumbnail_id': {'mob': '97-mob-w342-zwSFEczP7AzqugAHHIX3zHniT0t', 'tv': '97-tv-w780-zwSFEczP7AzqugAHHIX3zHniT0t', 'web': '97-web-w500-zwSFEczP7AzqugAHHIX3zHniT0t'}, 'media_type': 'movies', 'year': '1982', 'genres': ['Science Fiction', 'Action', 'Adventure'], 'ratings': {'internet_movie_database': '6.8/10'}, 'language': 'English', 'id': '97', 'services': ['Jio Cinema'], 'title_name': 'Tron', 'sooper_original': False, 'rating': nan, 'hide': nan, 'watchlist': nan, 'watched': nan}</td>\n",
       "    </tr>\n",
       "  </tbody>\n",
       "</table>\n",
       "</div>"
      ],
      "text/plain": [
       "                                                                                                                                                                                                                                                                                                                                                                                                                                                                                                                                                                                                                                                                                                                                                         _source\n",
       "0  {'cast': ['Jeff Bridges', 'Bruce Boxleitner', 'David Warner', 'Cindy Morgan', 'Barnard Hughes', 'Dan Shor', 'Peter Jurasik', 'Tony Stephano', 'Craig Chudy', 'Vince Deadrick Jr.', 'Sam Schatz', 'Michael Dudikoff'], 'streaming_modes': ['Subscription'], 'thumbnail_id': {'mob': '97-mob-w342-zwSFEczP7AzqugAHHIX3zHniT0t', 'tv': '97-tv-w780-zwSFEczP7AzqugAHHIX3zHniT0t', 'web': '97-web-w500-zwSFEczP7AzqugAHHIX3zHniT0t'}, 'media_type': 'movies', 'year': '1982', 'genres': ['Science Fiction', 'Action', 'Adventure'], 'ratings': {'internet_movie_database': '6.8/10'}, 'language': 'English', 'id': '97', 'services': ['Jio Cinema'], 'title_name': 'Tron', 'sooper_original': False, 'rating': nan, 'hide': nan, 'watchlist': nan, 'watched': nan}"
      ]
     },
     "execution_count": 25,
     "metadata": {},
     "output_type": "execute_result"
    }
   ],
   "source": [
    "output_data.head(1)"
   ]
  },
  {
   "cell_type": "code",
   "execution_count": 26,
   "metadata": {},
   "outputs": [],
   "source": [
    "# As our final dataframe was converted to a dict, we will convert the output data also for comparison\n",
    "for cnt in range(output_data.shape[0]):\n",
    "    output_data['_source'][cnt]=eval(output_data['_source'][cnt])"
   ]
  },
  {
   "cell_type": "code",
   "execution_count": 27,
   "metadata": {},
   "outputs": [
    {
     "data": {
      "text/plain": [
       "dict"
      ]
     },
     "execution_count": 27,
     "metadata": {},
     "output_type": "execute_result"
    }
   ],
   "source": [
    "type(output_data['_source'][0])"
   ]
  },
  {
   "cell_type": "code",
   "execution_count": 28,
   "metadata": {},
   "outputs": [
    {
     "data": {
      "text/plain": [
       "True"
      ]
     },
     "execution_count": 28,
     "metadata": {},
     "output_type": "execute_result"
    }
   ],
   "source": [
    "final_df.equals(output_data)"
   ]
  },
  {
   "cell_type": "markdown",
   "metadata": {},
   "source": [
    "# Therefore we have both with equal contents"
   ]
  },
  {
   "cell_type": "code",
   "execution_count": 29,
   "metadata": {},
   "outputs": [],
   "source": [
    "data[\"_source\"].to_csv('output_final.csv',index=False)   # Convert the dataframe to a csv file"
   ]
  }
 ],
 "metadata": {
  "kernelspec": {
   "display_name": "Python 3",
   "language": "python",
   "name": "python3"
  },
  "language_info": {
   "codemirror_mode": {
    "name": "ipython",
    "version": 3
   },
   "file_extension": ".py",
   "mimetype": "text/x-python",
   "name": "python",
   "nbconvert_exporter": "python",
   "pygments_lexer": "ipython3",
   "version": "3.8.5"
  }
 },
 "nbformat": 4,
 "nbformat_minor": 4
}
